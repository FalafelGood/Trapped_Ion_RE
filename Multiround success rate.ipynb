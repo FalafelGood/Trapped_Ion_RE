{
 "cells": [
  {
   "cell_type": "markdown",
   "id": "72fbe6fa",
   "metadata": {},
   "source": [
    "## AMDG\n",
    "#### How many ions are needed for 1000 KhZ fast-as possible lattice surgery?"
   ]
  },
  {
   "cell_type": "code",
   "execution_count": 1,
   "id": "445af5fd",
   "metadata": {},
   "outputs": [],
   "source": [
    "import numpy as np\n",
    "from scipy.stats import binom\n",
    "import matplotlib.pyplot as plt"
   ]
  },
  {
   "cell_type": "code",
   "execution_count": 2,
   "id": "ed7d172d",
   "metadata": {},
   "outputs": [],
   "source": [
    "# Binomial functionality\n",
    "\"\"\"\n",
    "Given a bernoulli distribution with probability p,\n",
    "\n",
    "Find the largest expected number of successes for \"n\" samples of this distribution, subject to the requirement that\n",
    "the success rate for observing this event is at least \"c\"\n",
    "\"\"\"\n",
    "def max_successes(p, n, c):\n",
    "    # Start from the smallest number of successes and increment until overall success probability is reached\n",
    "    k = 0\n",
    "\n",
    "    # Check the CDF value for this number of successes\n",
    "    cdf = 1-binom.cdf(k, n, p)\n",
    "    if cdf < c:\n",
    "        # print(\"No number of successes is possible with confidence {}\".format(c))\n",
    "        return 0\n",
    "\n",
    "    # Search in the direction of higher successes if the CDF value is less than c\n",
    "    while cdf > c:\n",
    "        k += 1\n",
    "        cdf = 1-binom.cdf(k, n, p)\n",
    "\n",
    "    return k"
   ]
  },
  {
   "cell_type": "code",
   "execution_count": 5,
   "id": "2ca59b8f",
   "metadata": {},
   "outputs": [],
   "source": [
    "\"\"\"\n",
    "Given a bernoulli distribution with probability p,\n",
    "\n",
    "Calculate the minimum number of trials needed to ensure that at least \"d\" \n",
    "successes occour with total success success rate at least \"c\"\n",
    "\"\"\"\n",
    "def min_trials(p, c, num_successes, inc=1, quiet=False):\n",
    "    n = 0\n",
    "    while max_successes(p, n, c) < num_successes:\n",
    "        if quiet == False: print(n, max_successes(p, n, c));\n",
    "        n += inc\n",
    "    return n"
   ]
  },
  {
   "cell_type": "code",
   "execution_count": 16,
   "id": "f42cf7e9",
   "metadata": {},
   "outputs": [
    {
     "name": "stdout",
     "output_type": "stream",
     "text": [
      "[192, 256, 320, 384, 504, 576, 648, 720, 792, 864, 936, 1008, 1080, 1152, 1224]\n"
     ]
    },
    {
     "data": {
      "image/png": "[encoded data removed]",
      "text/plain": [
       "<Figure size 640x480 with 1 Axes>"
      ]
     },
     "metadata": {},
     "output_type": "display_data"
    }
   ],
   "source": [
    "\"\"\"\n",
    "Calculate the number of pairs required for the 339s protocol given code distance\n",
    "\n",
    "D = code distance\n",
    "c = confidence threshold\n",
    "ps = success rate for purification block\n",
    "np = number of pairs in purification circuit\n",
    "\"\"\"\n",
    "def pair_count_for_distance(D, c=0.999, ps=0.6659, np=8):\n",
    "    one_pair_success = c**(1/D)\n",
    "    num_purifiers = min_trials(ps, one_pair_success, 1, quiet=True)\n",
    "    return num_purifiers * D * np\n",
    "\n",
    "# 0.6659, 8\n",
    "# 0.82, 4\n",
    "Drange = list(range(3,100))\n",
    "pairCounts = list(map(pair_count_for_distance, Drange))\n",
    "print(pairCounts[0:15]) # Print some code distance resource requirements starting from 3\n",
    "plt.plot(Drange, pairCounts)\n",
    "plt.show()"
   ]
  },
  {
   "cell_type": "code",
   "execution_count": 2,
   "id": "389411c4",
   "metadata": {},
   "outputs": [],
   "source": [
    "# Calculate the success rate of getting a number of bell pairs equal to required_successes\n",
    "\n",
    "\"\"\"\n",
    "Calculate the success rate of aquiring a number of bell pairs equal to \"required_successes\"\n",
    "\n",
    "num_trials = How many times to conduct the experiment\n",
    "num_timesteps = How many rounds to sample over\n",
    "num_ions\n",
    "\n",
    "\"\"\"\n",
    "def multiround_successrate(num_trials, num_timesteps, num_ions, success_prob, required_successes):\n",
    "    \n",
    "    def threshold(x):\n",
    "        if x >= required_successes: return 1;\n",
    "        return 0\n",
    "    \n",
    "    ion_tracking = np.array([num_ions for i in range(num_trials)])\n",
    "    num_successes = np.zeros(num_trials, int)\n",
    "    for i in range(num_timesteps):\n",
    "        collected_photons = np.array([np.random.binomial(ion_tracking[i], success_prob) for i in range(len(ion_tracking))])\n",
    "        num_successes += collected_photons\n",
    "        ion_tracking = ion_tracking - collected_photons\n",
    "    \n",
    "    print(f\"Average number of successes: {np.mean(num_successes)}\")\n",
    "    print(f\"Average success rate: {np.mean(list(map(threshold, num_successes)))}\")\n",
    "    return\n",
    "#     results = list(map(threshold, num_successes))\n",
    "#     return np.mean(results)"
   ]
  },
  {
   "cell_type": "code",
   "execution_count": 83,
   "id": "34c06249",
   "metadata": {},
   "outputs": [
    {
     "name": "stdout",
     "output_type": "stream",
     "text": [
      "Average number of successes: 1796.8468\n",
      "Average success rate: 0.9992\n"
     ]
    }
   ],
   "source": [
    "num_trials = 10000\n",
    "num_timesteps = 1000\n",
    "num_ions = 9175\n",
    "success_prob = 2.18e-4\n",
    "required_successes = 1680\n",
    "multiround_successrate(num_trials, num_timesteps, num_ions, success_prob, required_successes)"
   ]
  },
  {
   "cell_type": "code",
   "execution_count": 8,
   "id": "a88a9471",
   "metadata": {},
   "outputs": [
    {
     "name": "stdout",
     "output_type": "stream",
     "text": [
      "Average number of successes: 1680.0\n",
      "Average success rate: 1.0\n"
     ]
    }
   ],
   "source": [
    "num_trials = 10000\n",
    "num_timesteps = 100000\n",
    "num_ions = 1680\n",
    "success_prob = 2.18e-4\n",
    "required_successes = 1680\n",
    "multiround_successrate(num_trials, num_timesteps, num_ions, success_prob, required_successes)"
   ]
  },
  {
   "cell_type": "code",
   "execution_count": 9,
   "id": "473eb218",
   "metadata": {},
   "outputs": [
    {
     "name": "stdout",
     "output_type": "stream",
     "text": [
      "Average number of successes: 1679.967\n",
      "Average success rate: 0.968\n"
     ]
    }
   ],
   "source": [
    "num_trials = 1000\n",
    "num_timesteps = 50000\n",
    "num_ions = 1680\n",
    "success_prob = 2.18e-4\n",
    "required_successes = 1680\n",
    "multiround_successrate(num_trials, num_timesteps, num_ions, success_prob, required_successes)"
   ]
  },
  {
   "cell_type": "code",
   "execution_count": 14,
   "id": "ac09125d",
   "metadata": {},
   "outputs": [
    {
     "name": "stdout",
     "output_type": "stream",
     "text": [
      "Average number of successes: 1729.598\n",
      "Average success rate: 1.0\n"
     ]
    }
   ],
   "source": [
    "num_trials = 1000\n",
    "num_timesteps = 10000\n",
    "num_ions = 1950\n",
    "success_prob = 2.18e-4\n",
    "required_successes = 1680\n",
    "multiround_successrate(num_trials, num_timesteps, num_ions, success_prob, required_successes)"
   ]
  },
  {
   "cell_type": "code",
   "execution_count": 89,
   "id": "e26c646d",
   "metadata": {},
   "outputs": [
    {
     "name": "stdout",
     "output_type": "stream",
     "text": [
      "Average number of successes: 213.904\n",
      "Average success rate: 1.0\n"
     ]
    }
   ],
   "source": [
    "num_trials = 1000\n",
    "num_timesteps = 5750\n",
    "num_ions = 300\n",
    "success_prob = 2.18e-4\n",
    "required_successes = 192\n",
    "multiround_successrate(num_trials, num_timesteps, num_ions, success_prob, required_successes)"
   ]
  },
  {
   "cell_type": "code",
   "execution_count": null,
   "id": "a17ca7c3",
   "metadata": {},
   "outputs": [],
   "source": [
    "# def lattice_surgery_rate(num_ions, num_pairs_required, success_prob = 2.18e-4):\n",
    "    \n",
    "    \n",
    "    "
   ]
  }
 ],
 "metadata": {
  "kernelspec": {
   "display_name": "Python 3 (ipykernel)",
   "language": "python",
   "name": "python3"
  },
  "language_info": {
   "codemirror_mode": {
    "name": "ipython",
    "version": 3
   },
   "file_extension": ".py",
   "mimetype": "text/x-python",
   "name": "python",
   "nbconvert_exporter": "python",
   "pygments_lexer": "ipython3",
   "version": "3.10.6"
  }
 },
 "nbformat": 4,
 "nbformat_minor": 5
}
