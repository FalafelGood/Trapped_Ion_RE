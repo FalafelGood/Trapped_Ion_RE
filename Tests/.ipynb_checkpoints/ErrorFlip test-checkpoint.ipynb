{
 "cells": [
  {
   "cell_type": "code",
   "execution_count": 3,
   "id": "d46f84d0",
   "metadata": {},
   "outputs": [],
   "source": [
    "# AMDG\n",
    "import stim\n",
    "import numpy as np\n",
    "import itertools\n",
    "from copy import copy\n",
    "from copy import deepcopy\n",
    "from random import random\n",
    "import sys\n",
    "import matplotlib.pyplot as plt\n",
    "from random import randint"
   ]
  },
  {
   "cell_type": "code",
   "execution_count": 23,
   "id": "2d4d638b",
   "metadata": {},
   "outputs": [
    {
     "data": {
      "image/svg+xml": [
       "<svg viewBox=\"0 0 608 224\"  version=\"1.1\" xmlns=\"http://www.w3.org/2000/svg\">\n",
       "<g id=\"qubit_lines\">\n",
       "<path id=\"qubit_line:0\" d=\"M64,64 L576,64 \" stroke=\"black\"/>\n",
       "<text dominant-baseline=\"central\" text-anchor=\"end\" font-family=\"monospace\" font-size=\"12\" x=\"64\" y=\"64\">q0</text>\n",
       "<path id=\"qubit_line:1\" d=\"M64,128 L576,128 \" stroke=\"black\"/>\n",
       "<text dominant-baseline=\"central\" text-anchor=\"end\" font-family=\"monospace\" font-size=\"12\" x=\"64\" y=\"128\">q1</text>\n",
       "</g>\n",
       "<rect x=\"80\" y=\"48\" width=\"32\" height=\"32\" stroke=\"black\" fill=\"white\"/>\n",
       "<text dominant-baseline=\"central\" text-anchor=\"middle\" font-family=\"monospace\" font-size=\"30\" x=\"96\" y=\"64\">H</text>\n",
       "<path d=\"M160,64 L160,128 \" stroke=\"black\"/>\n",
       "<circle cx=\"160\" cy=\"64\" r=\"12\" stroke=\"none\" fill=\"black\"/>\n",
       "<circle cx=\"160\" cy=\"128\" r=\"12\" stroke=\"black\" fill=\"white\"/>\n",
       "<path d=\"M148,128 L172,128 M160,116 L160,140 \" stroke=\"black\"/>\n",
       "<rect x=\"208\" y=\"48\" width=\"224\" height=\"32\" stroke=\"black\" fill=\"pink\"/>\n",
       "<text dominant-baseline=\"central\" text-anchor=\"middle\" font-family=\"monospace\" font-size=\"16\" x=\"320\" y=\"64\">PAULI_CHANNEL_1</text>\n",
       "<text dominant-baseline=\"hanging\" text-anchor=\"middle\" font-family=\"monospace\" font-size=\"10\" stroke=\"red\" x=\"320\" y=\"84\">0.666667,0,0.333333</text>\n",
       "<rect x=\"464\" y=\"48\" width=\"32\" height=\"32\" stroke=\"black\" fill=\"white\"/>\n",
       "<text dominant-baseline=\"central\" text-anchor=\"middle\" font-family=\"monospace\" font-size=\"30\" x=\"480\" y=\"64\">X</text>\n",
       "<rect x=\"464\" y=\"112\" width=\"32\" height=\"32\" stroke=\"black\" fill=\"white\"/>\n",
       "<text dominant-baseline=\"central\" text-anchor=\"middle\" font-family=\"monospace\" font-size=\"30\" x=\"480\" y=\"128\">X</text>\n",
       "<rect x=\"528\" y=\"48\" width=\"32\" height=\"32\" stroke=\"black\" fill=\"white\"/>\n",
       "<text dominant-baseline=\"central\" text-anchor=\"middle\" font-family=\"monospace\" font-size=\"30\" x=\"544\" y=\"64\">H</text>\n",
       "<rect x=\"528\" y=\"112\" width=\"32\" height=\"32\" stroke=\"black\" fill=\"white\"/>\n",
       "<text dominant-baseline=\"central\" text-anchor=\"middle\" font-family=\"monospace\" font-size=\"30\" x=\"544\" y=\"128\">H</text>\n",
       "</svg>"
      ],
      "text/html": [
       "<div style=\"border: 1px dashed gray; margin-bottom: 50px; height: 512px; resize: both; overflow: hidden\"><img style=\"max-width: 100%; max-height: 100%\" src=\"data:image/svg+xml;base64,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\"/></div>"
      ],
      "text/plain": [
       "<svg viewBox=\"0 0 608 224\"  version=\"1.1\" xmlns=\"http://www.w3.org/2000/svg\">\n",
       "<g id=\"qubit_lines\">\n",
       "<path id=\"qubit_line:0\" d=\"M64,64 L576,64 \" stroke=\"black\"/>\n",
       "<text dominant-baseline=\"central\" text-anchor=\"end\" font-family=\"monospace\" font-size=\"12\" x=\"64\" y=\"64\">q0</text>\n",
       "<path id=\"qubit_line:1\" d=\"M64,128 L576,128 \" stroke=\"black\"/>\n",
       "<text dominant-baseline=\"central\" text-anchor=\"end\" font-family=\"monospace\" font-size=\"12\" x=\"64\" y=\"128\">q1</text>\n",
       "</g>\n",
       "<rect x=\"80\" y=\"48\" width=\"32\" height=\"32\" stroke=\"black\" fill=\"white\"/>\n",
       "<text dominant-baseline=\"central\" text-anchor=\"middle\" font-family=\"monospace\" font-size=\"30\" x=\"96\" y=\"64\">H</text>\n",
       "<path d=\"M160,64 L160,128 \" stroke=\"black\"/>\n",
       "<circle cx=\"160\" cy=\"64\" r=\"12\" stroke=\"none\" fill=\"black\"/>\n",
       "<circle cx=\"160\" cy=\"128\" r=\"12\" stroke=\"black\" fill=\"white\"/>\n",
       "<path d=\"M148,128 L172,128 M160,116 L160,140 \" stroke=\"black\"/>\n",
       "<rect x=\"208\" y=\"48\" width=\"224\" height=\"32\" stroke=\"black\" fill=\"pink\"/>\n",
       "<text dominant-baseline=\"central\" text-anchor=\"middle\" font-family=\"monospace\" font-size=\"16\" x=\"320\" y=\"64\">PAULI_CHANNEL_1</text>\n",
       "<text dominant-baseline=\"hanging\" text-anchor=\"middle\" font-family=\"monospace\" font-size=\"10\" stroke=\"red\" x=\"320\" y=\"84\">0.666667,0,0.333333</text>\n",
       "<rect x=\"464\" y=\"48\" width=\"32\" height=\"32\" stroke=\"black\" fill=\"white\"/>\n",
       "<text dominant-baseline=\"central\" text-anchor=\"middle\" font-family=\"monospace\" font-size=\"30\" x=\"480\" y=\"64\">X</text>\n",
       "<rect x=\"464\" y=\"112\" width=\"32\" height=\"32\" stroke=\"black\" fill=\"white\"/>\n",
       "<text dominant-baseline=\"central\" text-anchor=\"middle\" font-family=\"monospace\" font-size=\"30\" x=\"480\" y=\"128\">X</text>\n",
       "<rect x=\"528\" y=\"48\" width=\"32\" height=\"32\" stroke=\"black\" fill=\"white\"/>\n",
       "<text dominant-baseline=\"central\" text-anchor=\"middle\" font-family=\"monospace\" font-size=\"30\" x=\"544\" y=\"64\">H</text>\n",
       "<rect x=\"528\" y=\"112\" width=\"32\" height=\"32\" stroke=\"black\" fill=\"white\"/>\n",
       "<text dominant-baseline=\"central\" text-anchor=\"middle\" font-family=\"monospace\" font-size=\"30\" x=\"544\" y=\"128\">H</text>\n",
       "</svg>"
      ]
     },
     "execution_count": 23,
     "metadata": {},
     "output_type": "execute_result"
    }
   ],
   "source": [
    "def error_swap_circuit(pz, perr=1):\n",
    "    circuit = stim.Circuit()\n",
    "    circuit.append_operation(\"H\", 0)\n",
    "    circuit.append_operation(\"CNOT\", [0,1])\n",
    "    circuit.append_operation(\"PAULI_CHANNEL_1\", 0, [(1-pz), 0, pz])\n",
    "    circuit.diagram(type=\"timeline-svg\")\n",
    "\n",
    "    # Error swap\n",
    "    circuit.append_operation(\"X\",[0,1])\n",
    "    circuit.append_operation(\"H\",[0,1])\n",
    "    return circuit\n",
    "\n",
    "c = error_swap_circuit(1/3)\n",
    "c.diagram(type=\"timeline-svg\")"
   ]
  },
  {
   "cell_type": "code",
   "execution_count": 29,
   "id": "5f0d55e9",
   "metadata": {},
   "outputs": [
    {
     "name": "stdout",
     "output_type": "stream",
     "text": [
      "Average z fidelity: (0.2047999964950046+0j)\n",
      "Average x fidelity: (0.7951999863908285+0j)\n"
     ]
    }
   ],
   "source": [
    "\"\"\"\n",
    "Estimate the fidelity of the state generated in the previous circuit with respect\n",
    "to phi_minus.\n",
    "\"\"\"\n",
    "def estimate_fidelity(num_trials, pz):\n",
    "    ave_zfidelity = 0\n",
    "    ave_xfidelity = 0\n",
    "    phi_plus = [1/np.sqrt(2),0.,0.,-1/np.sqrt(2)]\n",
    "    phi_minus = [1/np.sqrt(2),0.,0.,-1/np.sqrt(2)]\n",
    "    psi_plus = [0, 1/np.sqrt(2), 1/np.sqrt(2), 0]\n",
    "    for i in range(num_trials):\n",
    "        simulator = stim.TableauSimulator()\n",
    "        circuit = error_swap_circuit(pz)\n",
    "        simulator.do(circuit)\n",
    "        sv = simulator.state_vector()\n",
    "        ave_zfidelity += np.inner(phi_minus, sv)\n",
    "        ave_xfidelity += np.inner(psi_plus, sv)\n",
    "    print(f\"Average z fidelity: {ave_zfidelity / num_trials}\")\n",
    "    print(f\"Average x fidelity: {ave_xfidelity / num_trials}\")\n",
    "\n",
    "pz = 8/10\n",
    "estimate_fidelity(10000, pz)"
   ]
  },
  {
   "cell_type": "markdown",
   "id": "d8c61e34",
   "metadata": {},
   "source": [
    "I want to double check this works as generally as possible -- I'll include some identity component too"
   ]
  }
 ],
 "metadata": {
  "kernelspec": {
   "display_name": "Python [conda env:qiskit_env] *",
   "language": "python",
   "name": "conda-env-qiskit_env-py"
  },
  "language_info": {
   "codemirror_mode": {
    "name": "ipython",
    "version": 3
   },
   "file_extension": ".py",
   "mimetype": "text/x-python",
   "name": "python",
   "nbconvert_exporter": "python",
   "pygments_lexer": "ipython3",
   "version": "3.10.6"
  }
 },
 "nbformat": 4,
 "nbformat_minor": 5
}
