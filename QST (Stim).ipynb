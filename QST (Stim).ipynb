{
 "cells": [
  {
   "cell_type": "code",
   "execution_count": 3,
   "id": "03da082e",
   "metadata": {},
   "outputs": [],
   "source": [
    "import numpy as np\n",
    "from numpy.random import rand\n",
    "from scipy.linalg import ishermitian\n",
    "from numpy import kron\n",
    "import stim\n",
    "from copy import copy\n",
    "import time\n",
    "import itertools"
   ]
  },
  {
   "cell_type": "markdown",
   "id": "003cd698",
   "metadata": {},
   "source": [
    "## One Qubit tomography in Stim"
   ]
  },
  {
   "cell_type": "code",
   "execution_count": 10,
   "id": "e6bc32c6",
   "metadata": {},
   "outputs": [
    {
     "data": {
      "image/svg+xml": [
       "<svg viewBox=\"0 0 224 160\"  version=\"1.1\" xmlns=\"http://www.w3.org/2000/svg\">\n",
       "<g id=\"qubit_lines\">\n",
       "<path id=\"qubit_line:0\" d=\"M64,64 L192,64 \" stroke=\"black\"/>\n",
       "<text dominant-baseline=\"central\" text-anchor=\"end\" font-family=\"monospace\" font-size=\"12\" x=\"64\" y=\"64\">q0</text>\n",
       "</g>\n",
       "<rect x=\"80\" y=\"48\" width=\"32\" height=\"32\" stroke=\"black\" fill=\"white\"/>\n",
       "<text dominant-baseline=\"central\" text-anchor=\"middle\" font-family=\"monospace\" font-size=\"30\" x=\"96\" y=\"64\">X</text>\n",
       "<rect x=\"144\" y=\"48\" width=\"32\" height=\"32\" stroke=\"black\" fill=\"pink\"/>\n",
       "<text dominant-baseline=\"central\" text-anchor=\"middle\" font-family=\"monospace\" font-size=\"12\" x=\"160\" y=\"64\">DEP<tspan baseline-shift=\"sub\" font-size=\"10\">1</tspan></text>\n",
       "<text dominant-baseline=\"hanging\" text-anchor=\"middle\" font-family=\"monospace\" font-size=\"10\" stroke=\"red\" x=\"160\" y=\"84\">0.3</text>\n",
       "</svg>"
      ],
      "text/html": [
       "<div style=\"border: 1px dashed gray; margin-bottom: 50px; height: 512px; resize: both; overflow: hidden\"><img style=\"max-width: 100%; max-height: 100%\" src=\"data:image/svg+xml;base64,PHN2ZyB2aWV3Qm94PSIwIDAgMjI0IDE2MCIgIHZlcnNpb249IjEuMSIgeG1sbnM9Imh0dHA6Ly93d3cudzMub3JnLzIwMDAvc3ZnIj4KPGcgaWQ9InF1Yml0X2xpbmVzIj4KPHBhdGggaWQ9InF1Yml0X2xpbmU6MCIgZD0iTTY0LDY0IEwxOTIsNjQgIiBzdHJva2U9ImJsYWNrIi8+Cjx0ZXh0IGRvbWluYW50LWJhc2VsaW5lPSJjZW50cmFsIiB0ZXh0LWFuY2hvcj0iZW5kIiBmb250LWZhbWlseT0ibW9ub3NwYWNlIiBmb250LXNpemU9IjEyIiB4PSI2NCIgeT0iNjQiPnEwPC90ZXh0Pgo8L2c+CjxyZWN0IHg9IjgwIiB5PSI0OCIgd2lkdGg9IjMyIiBoZWlnaHQ9IjMyIiBzdHJva2U9ImJsYWNrIiBmaWxsPSJ3aGl0ZSIvPgo8dGV4dCBkb21pbmFudC1iYXNlbGluZT0iY2VudHJhbCIgdGV4dC1hbmNob3I9Im1pZGRsZSIgZm9udC1mYW1pbHk9Im1vbm9zcGFjZSIgZm9udC1zaXplPSIzMCIgeD0iOTYiIHk9IjY0Ij5YPC90ZXh0Pgo8cmVjdCB4PSIxNDQiIHk9IjQ4IiB3aWR0aD0iMzIiIGhlaWdodD0iMzIiIHN0cm9rZT0iYmxhY2siIGZpbGw9InBpbmsiLz4KPHRleHQgZG9taW5hbnQtYmFzZWxpbmU9ImNlbnRyYWwiIHRleHQtYW5jaG9yPSJtaWRkbGUiIGZvbnQtZmFtaWx5PSJtb25vc3BhY2UiIGZvbnQtc2l6ZT0iMTIiIHg9IjE2MCIgeT0iNjQiPkRFUDx0c3BhbiBiYXNlbGluZS1zaGlmdD0ic3ViIiBmb250LXNpemU9IjEwIj4xPC90c3Bhbj48L3RleHQ+Cjx0ZXh0IGRvbWluYW50LWJhc2VsaW5lPSJoYW5naW5nIiB0ZXh0LWFuY2hvcj0ibWlkZGxlIiBmb250LWZhbWlseT0ibW9ub3NwYWNlIiBmb250LXNpemU9IjEwIiBzdHJva2U9InJlZCIgeD0iMTYwIiB5PSI4NCI+MC4zPC90ZXh0Pgo8L3N2Zz4=\"/></div>"
      ],
      "text/plain": [
       "<svg viewBox=\"0 0 224 160\"  version=\"1.1\" xmlns=\"http://www.w3.org/2000/svg\">\n",
       "<g id=\"qubit_lines\">\n",
       "<path id=\"qubit_line:0\" d=\"M64,64 L192,64 \" stroke=\"black\"/>\n",
       "<text dominant-baseline=\"central\" text-anchor=\"end\" font-family=\"monospace\" font-size=\"12\" x=\"64\" y=\"64\">q0</text>\n",
       "</g>\n",
       "<rect x=\"80\" y=\"48\" width=\"32\" height=\"32\" stroke=\"black\" fill=\"white\"/>\n",
       "<text dominant-baseline=\"central\" text-anchor=\"middle\" font-family=\"monospace\" font-size=\"30\" x=\"96\" y=\"64\">X</text>\n",
       "<rect x=\"144\" y=\"48\" width=\"32\" height=\"32\" stroke=\"black\" fill=\"pink\"/>\n",
       "<text dominant-baseline=\"central\" text-anchor=\"middle\" font-family=\"monospace\" font-size=\"12\" x=\"160\" y=\"64\">DEP<tspan baseline-shift=\"sub\" font-size=\"10\">1</tspan></text>\n",
       "<text dominant-baseline=\"hanging\" text-anchor=\"middle\" font-family=\"monospace\" font-size=\"10\" stroke=\"red\" x=\"160\" y=\"84\">0.3</text>\n",
       "</svg>"
      ]
     },
     "execution_count": 10,
     "metadata": {},
     "output_type": "execute_result"
    }
   ],
   "source": [
    "# Sample circuit for Quantum state tomography\n",
    "one = stim.Circuit()\n",
    "one.append_operation(\"X\", 0)\n",
    "one.append_operation(\"DEPOLARIZE1\", 0, 0.3)\n",
    "one.diagram(type=\"timeline-svg\")"
   ]
  },
  {
   "cell_type": "code",
   "execution_count": 11,
   "id": "91152f49",
   "metadata": {},
   "outputs": [
    {
     "name": "stdout",
     "output_type": "stream",
     "text": [
      "[-0.012, -0.0048, -0.6022]\n",
      "\n",
      "\n",
      "[[ 0.1989+0.j     -0.006 +0.0024j]\n",
      " [-0.006 -0.0024j  0.8011+0.j    ]]\n",
      "\n",
      "\n",
      "[[ 0.1989+0.j     -0.006 +0.0024j]\n",
      " [-0.006 -0.0024j  0.8011+0.j    ]]\n"
     ]
    }
   ],
   "source": [
    "# Hardcoding more or less with optimization technique from https://arxiv.org/abs/1106.5458\n",
    "def one_qubit_tomography(circuit, num_samples):\n",
    "    measurements = [\"MX\", \"MY\", \"MZ\"]\n",
    "    meas_circs = []\n",
    "    for m in measurements:\n",
    "        cop = copy(circuit)\n",
    "        cop.append_operation(m, 0)\n",
    "        meas_circs.append(cop)\n",
    "    \n",
    "    pm = {True: -1, False: 1} # Is this correct?\n",
    "    r_vals = []\n",
    "    \n",
    "    # run circuits\n",
    "    for c in meas_circs:\n",
    "        ave = 0.0\n",
    "        for i in range(num_samples):\n",
    "            simulator = stim.TableauSimulator()\n",
    "            simulator.do(c)\n",
    "            results = simulator.current_measurement_record()\n",
    "            meas = pm[results[0]]\n",
    "            ave += meas\n",
    "        ave = ave / num_samples\n",
    "        r_vals.append(ave)\n",
    "        \n",
    "    print(r_vals) #debug\n",
    "    print(\"\\n\")\n",
    "    \n",
    "    X = np.array([[0, 1],[1,0]])\n",
    "    Y = np.array([[0, -1j],[1j, 0]])\n",
    "    Z = np.array([[1, 0],[0,-1]])\n",
    "    I = np.array([[1,0],[0,1]])\n",
    "    mu = 1/2*(I + r_vals[0]*X + r_vals[1]*Y + r_vals[2]*Z)\n",
    "    \n",
    "    print(mu) # debug\n",
    "    print(\"\\n\")\n",
    "    \n",
    "    # calculate eigenvalues of µ matrix\n",
    "    eigen = np.linalg.eig(mu)\n",
    "    vals  = eigen[0]\n",
    "    vecs  = eigen[1].transpose()\n",
    "\n",
    "    # order eigenvalues from largest to smallest\n",
    "    eig_vals = sorted(vals, reverse=True)\n",
    "    idx      = []\n",
    "    for val in eig_vals:\n",
    "        idx.append(np.where(vals == val)[0][0])\n",
    "    eig_vecs = []\n",
    "    for i in idx:\n",
    "        eig_vecs.append(vecs[i])\n",
    "        \n",
    "    # calculate eigenvalues of the density matrix\n",
    "    accumulator = 0\n",
    "    lamb_vals   = [None] * len(eig_vals)\n",
    "    for i in range(len(eig_vals) - 1, -1, -1):\n",
    "        if eig_vals[i] + (accumulator / (i + 1)) >= 0:\n",
    "            for j in range(i + 1):\n",
    "                lamb_vals[j] = eig_vals[j] +  (accumulator / (i + 1))\n",
    "            break\n",
    "        else:\n",
    "            lamb_vals[i] = 0\n",
    "            accumulator  += eig_vals[i]\n",
    "\n",
    "    # calculate density matrix\n",
    "    predicted_state = lamb_vals[0] * np.outer(eig_vecs[0], eig_vecs[0].conj()) \\\n",
    "                        + lamb_vals[1] * np.outer(eig_vecs[1], eig_vecs[1].conj())\n",
    "    \n",
    "#     # calculate fidelity\n",
    "#     fidelity = input_state.conj().dot(predicted_state).dot(input_state)\n",
    "    \n",
    "    return predicted_state\n",
    "\n",
    "# Optimization really doesn't seem to be helping in 1 qubit case huh.\n",
    "rho = one_qubit_tomography(one, num_samples=int(1e4))\n",
    "print(rho)"
   ]
  },
  {
   "cell_type": "markdown",
   "id": "8c66acc9",
   "metadata": {},
   "source": [
    "# Two Qubit Tomography in Stim:\n",
    "\n",
    "See [link](https://github.com/epelaaez/QuantumLibrary/blob/master/challenges/QOSF%20Monthly/July%202021.ipynb) for reference.\n",
    "\n",
    "Methodology\n",
    "1. Get the 3^n required measurement bases by enumerating elements of the cartesian product {X, Y, Z}^2.\n",
    "2. For one instance of the circuit, append corresponding measurements and sample N times (Will this require regenerating circuits? For now, assume not, but see what Simon thinks\n",
    "3. Calculate the expectation values for each pauli string\n",
    "4. Reconstitute the density matrix\n",
    "5. (Optional) Optimize using the techniques from Smolin's \"Maximum Likelihood, Minimum Effort\" paper"
   ]
  },
  {
   "cell_type": "code",
   "execution_count": 4,
   "id": "815ec7c3",
   "metadata": {},
   "outputs": [
    {
     "name": "stdout",
     "output_type": "stream",
     "text": [
      "[('MX', 'MX'), ('MX', 'MY'), ('MX', 'MZ'), ('MY', 'MX'), ('MY', 'MY'), ('MY', 'MZ'), ('MZ', 'MX'), ('MZ', 'MY'), ('MZ', 'MZ')]\n"
     ]
    }
   ],
   "source": [
    "\"\"\"\n",
    "Enumerate all strings in arr (kept as a free parameter because we'll need to enumerate both ['X', 'Y', 'Z'] \n",
    "and ['I', 'X', 'Y', 'Z'])\n",
    "\n",
    "n = number of qubits\n",
    "\"\"\"\n",
    "def measurements_strings(n, arr = ['X', 'Y', 'Z']):\n",
    "    strs = [p for p in itertools.product(arr, repeat=n)]\n",
    "    return strs\n",
    "\n",
    "bases = measurements_strings(2, arr = [\"MX\", \"MY\", \"MZ\"])\n",
    "print(bases)"
   ]
  },
  {
   "cell_type": "code",
   "execution_count": 6,
   "id": "4e5ff088",
   "metadata": {},
   "outputs": [],
   "source": [
    "\"\"\"\n",
    "Add measurements to a stim circuit\n",
    "\"\"\"\n",
    "def add_measurements(circuit, teleported_pair, bases):\n",
    "    measured_circuits = []\n",
    "    for b in bases:\n",
    "        c = stim.Circuit()\n",
    "        c.append(b[0], teleported_pair[0])\n",
    "        c.append(b[1], teleported_pair[1])\n",
    "        measured_circuits.append(c)\n",
    "    return measured_circuits"
   ]
  },
  {
   "cell_type": "code",
   "execution_count": 7,
   "id": "b6203fd1",
   "metadata": {},
   "outputs": [],
   "source": [
    "def sample_circuits(simulator, measured_circuits, debug=False):\n",
    "    for idx, c in enumerate(measured_circuits):\n",
    "        if debug: print(f\"Running circuit {idx}\")\n",
    "        sim_copy = simulator.copy()\n",
    "        sim_copy.do(c)\n",
    "        results = simulator.current_measurement_record()\n",
    "        print(results[-2], results[-1])"
   ]
  },
  {
   "cell_type": "code",
   "execution_count": 20,
   "id": "cc245e20",
   "metadata": {},
   "outputs": [
    {
     "data": {
      "image/svg+xml": [
       "<svg viewBox=\"0 0 224 224\"  version=\"1.1\" xmlns=\"http://www.w3.org/2000/svg\">\n",
       "<g id=\"qubit_lines\">\n",
       "<path id=\"qubit_line:0\" d=\"M64,64 L192,64 \" stroke=\"black\"/>\n",
       "<text dominant-baseline=\"central\" text-anchor=\"end\" font-family=\"monospace\" font-size=\"12\" x=\"64\" y=\"64\">q0</text>\n",
       "<path id=\"qubit_line:1\" d=\"M64,128 L192,128 \" stroke=\"black\"/>\n",
       "<text dominant-baseline=\"central\" text-anchor=\"end\" font-family=\"monospace\" font-size=\"12\" x=\"64\" y=\"128\">q1</text>\n",
       "</g>\n",
       "<rect x=\"80\" y=\"48\" width=\"32\" height=\"32\" stroke=\"black\" fill=\"white\"/>\n",
       "<text dominant-baseline=\"central\" text-anchor=\"middle\" font-family=\"monospace\" font-size=\"30\" x=\"96\" y=\"64\">H</text>\n",
       "<path d=\"M160,64 L160,128 \" stroke=\"black\"/>\n",
       "<circle cx=\"160\" cy=\"64\" r=\"12\" stroke=\"none\" fill=\"black\"/>\n",
       "<circle cx=\"160\" cy=\"128\" r=\"12\" stroke=\"black\" fill=\"white\"/>\n",
       "<path d=\"M148,128 L172,128 M160,116 L160,140 \" stroke=\"black\"/>\n",
       "</svg>"
      ],
      "text/html": [
       "<div style=\"border: 1px dashed gray; margin-bottom: 50px; height: 512px; resize: both; overflow: hidden\"><img style=\"max-width: 100%; max-height: 100%\" src=\"data:image/svg+xml;base64,PHN2ZyB2aWV3Qm94PSIwIDAgMjI0IDIyNCIgIHZlcnNpb249IjEuMSIgeG1sbnM9Imh0dHA6Ly93d3cudzMub3JnLzIwMDAvc3ZnIj4KPGcgaWQ9InF1Yml0X2xpbmVzIj4KPHBhdGggaWQ9InF1Yml0X2xpbmU6MCIgZD0iTTY0LDY0IEwxOTIsNjQgIiBzdHJva2U9ImJsYWNrIi8+Cjx0ZXh0IGRvbWluYW50LWJhc2VsaW5lPSJjZW50cmFsIiB0ZXh0LWFuY2hvcj0iZW5kIiBmb250LWZhbWlseT0ibW9ub3NwYWNlIiBmb250LXNpemU9IjEyIiB4PSI2NCIgeT0iNjQiPnEwPC90ZXh0Pgo8cGF0aCBpZD0icXViaXRfbGluZToxIiBkPSJNNjQsMTI4IEwxOTIsMTI4ICIgc3Ryb2tlPSJibGFjayIvPgo8dGV4dCBkb21pbmFudC1iYXNlbGluZT0iY2VudHJhbCIgdGV4dC1hbmNob3I9ImVuZCIgZm9udC1mYW1pbHk9Im1vbm9zcGFjZSIgZm9udC1zaXplPSIxMiIgeD0iNjQiIHk9IjEyOCI+cTE8L3RleHQ+CjwvZz4KPHJlY3QgeD0iODAiIHk9IjQ4IiB3aWR0aD0iMzIiIGhlaWdodD0iMzIiIHN0cm9rZT0iYmxhY2siIGZpbGw9IndoaXRlIi8+Cjx0ZXh0IGRvbWluYW50LWJhc2VsaW5lPSJjZW50cmFsIiB0ZXh0LWFuY2hvcj0ibWlkZGxlIiBmb250LWZhbWlseT0ibW9ub3NwYWNlIiBmb250LXNpemU9IjMwIiB4PSI5NiIgeT0iNjQiPkg8L3RleHQ+CjxwYXRoIGQ9Ik0xNjAsNjQgTDE2MCwxMjggIiBzdHJva2U9ImJsYWNrIi8+CjxjaXJjbGUgY3g9IjE2MCIgY3k9IjY0IiByPSIxMiIgc3Ryb2tlPSJub25lIiBmaWxsPSJibGFjayIvPgo8Y2lyY2xlIGN4PSIxNjAiIGN5PSIxMjgiIHI9IjEyIiBzdHJva2U9ImJsYWNrIiBmaWxsPSJ3aGl0ZSIvPgo8cGF0aCBkPSJNMTQ4LDEyOCBMMTcyLDEyOCBNMTYwLDExNiBMMTYwLDE0MCAiIHN0cm9rZT0iYmxhY2siLz4KPC9zdmc+\"/></div>"
      ],
      "text/plain": [
       "<svg viewBox=\"0 0 224 224\"  version=\"1.1\" xmlns=\"http://www.w3.org/2000/svg\">\n",
       "<g id=\"qubit_lines\">\n",
       "<path id=\"qubit_line:0\" d=\"M64,64 L192,64 \" stroke=\"black\"/>\n",
       "<text dominant-baseline=\"central\" text-anchor=\"end\" font-family=\"monospace\" font-size=\"12\" x=\"64\" y=\"64\">q0</text>\n",
       "<path id=\"qubit_line:1\" d=\"M64,128 L192,128 \" stroke=\"black\"/>\n",
       "<text dominant-baseline=\"central\" text-anchor=\"end\" font-family=\"monospace\" font-size=\"12\" x=\"64\" y=\"128\">q1</text>\n",
       "</g>\n",
       "<rect x=\"80\" y=\"48\" width=\"32\" height=\"32\" stroke=\"black\" fill=\"white\"/>\n",
       "<text dominant-baseline=\"central\" text-anchor=\"middle\" font-family=\"monospace\" font-size=\"30\" x=\"96\" y=\"64\">H</text>\n",
       "<path d=\"M160,64 L160,128 \" stroke=\"black\"/>\n",
       "<circle cx=\"160\" cy=\"64\" r=\"12\" stroke=\"none\" fill=\"black\"/>\n",
       "<circle cx=\"160\" cy=\"128\" r=\"12\" stroke=\"black\" fill=\"white\"/>\n",
       "<path d=\"M148,128 L172,128 M160,116 L160,140 \" stroke=\"black\"/>\n",
       "</svg>"
      ]
     },
     "execution_count": 20,
     "metadata": {},
     "output_type": "execute_result"
    }
   ],
   "source": [
    "# Sample circuit for Quantum state tomography\n",
    "bell = stim.Circuit()\n",
    "bell.append_operation(\"H\", 0)\n",
    "bell.append_operation(\"CNOT\", [0, 1])\n",
    "bell.diagram(type=\"timeline-svg\")"
   ]
  },
  {
   "cell_type": "code",
   "execution_count": null,
   "id": "3fde4901",
   "metadata": {},
   "outputs": [],
   "source": []
  },
  {
   "cell_type": "code",
   "execution_count": null,
   "id": "5e8b6de1",
   "metadata": {},
   "outputs": [],
   "source": [
    "# two qubit state tomography:\n",
    "# do hardcoding first, improve later\n",
    "def two_qubit_tomography(circuit, num_samples=100, debug=True):\n",
    "    pauli_strings = ['II', 'IX', 'IY', 'IZ', 'XI', 'XX', 'XY', 'XZ', 'YI', 'YX', 'YY', 'YZ', 'ZI', 'ZX', 'ZY', 'ZZ']\n",
    "    dm = []\n",
    "    for s in pauli_strings:\n",
    "        ave_meas = 0.0\n",
    "        for i in range(num_samples):\n",
    "            cop = copy(circuit)\n",
    "            cop.append(f\"{s[0]}\", 0)\n",
    "            cop.append(f\"{s[1]}\", 1)\n",
    "            cop.append(\"MR\", 0)\n",
    "            cop.append(\"MR\", 1)\n",
    "            simulator = stim.TableauSimulator()\n",
    "            simulator.do(cop)\n",
    "            results = simulator.current_measurement_record()\n",
    "            pm = {True: 1, False: -1}\n",
    "            meas = (pm[results[0]] * pm[results[1]])\n",
    "            print(results)\n",
    "            print(meas)\n",
    "            time.sleep(0.3)\n",
    "            ave_meas += meas\n",
    "        print(ave_meas)\n",
    "        ave_meas = ave_meas / num_samples\n",
    "        dm.append(ave_meas)\n",
    "    print(dm)\n",
    "            \n",
    "c = two_qubit_tomography(bell, num_samples=100)\n",
    "# Something's not adding up for ideal case\n",
    "\n",
    "# print(cop)\n",
    "# print(\"\")\n",
    "# time.sleep(0.5)\n",
    "# pause and check work\n",
    "\n",
    "#             print(results)\n",
    "#             print((pm[results[0]] + pm[results[1]])/2)\n",
    "#             print()"
   ]
  },
  {
   "cell_type": "code",
   "execution_count": null,
   "id": "06be693c",
   "metadata": {},
   "outputs": [],
   "source": [
    "pm = {True: 1, False: -1}\n",
    "pm[True]"
   ]
  },
  {
   "cell_type": "markdown",
   "id": "5e503711",
   "metadata": {},
   "source": [
    "# Sandboxing"
   ]
  },
  {
   "cell_type": "code",
   "execution_count": 1,
   "id": "64d3487c",
   "metadata": {},
   "outputs": [],
   "source": [
    "import itertools"
   ]
  },
  {
   "cell_type": "code",
   "execution_count": 2,
   "id": "e2cc03af",
   "metadata": {},
   "outputs": [
    {
     "name": "stdout",
     "output_type": "stream",
     "text": [
      "[('X', 'X'), ('Y', 'X'), ('X', 'Y'), ('X', 'Z'), ('Z', 'X'), ('Y', 'Y'), ('Y', 'Z'), ('Z', 'Y'), ('Z', 'Z')]\n"
     ]
    }
   ],
   "source": [
    "\"\"\"\n",
    "Enumerate all strings in {X, Y, Z}^n\n",
    "\n",
    "Credit to (Emilio Peláez)\n",
    "https://github.com/epelaaez/QuantumLibrary/blob/master/challenges/QOSF%20Monthly/July%202021.ipynb\n",
    "\n",
    "n = number of qubits\n",
    "arr = array of non-identity pauli operators\n",
    "\"\"\"\n",
    "def measurements_strings(n, arr=['X', 'Y', 'Z']):\n",
    "    strs  = []\n",
    "    combs = list(itertools.combinations_with_replacement(arr, n))\n",
    "    for comb in combs: # Why isn't there an itertools method for permutation w replacement? Is this necessary? \n",
    "        for item in set(list(itertools.permutations(comb))):\n",
    "            strs.append(item)\n",
    "    return strs\n",
    "\n",
    "print(measurements_strings(2))"
   ]
  },
  {
   "cell_type": "code",
   "execution_count": 9,
   "id": "20476dc9",
   "metadata": {},
   "outputs": [
    {
     "name": "stdout",
     "output_type": "stream",
     "text": [
      "[('X', 'X'), ('X', 'Y'), ('X', 'Z'), ('Y', 'X'), ('Y', 'Y'), ('Y', 'Z'), ('Z', 'X'), ('Z', 'Y'), ('Z', 'Z')]\n"
     ]
    }
   ],
   "source": [
    "\"\"\"\n",
    "Enumerate all strings in {X, Y, Z}^n\n",
    "n = number of qubits\n",
    "\"\"\"\n",
    "def measurements_strings(n):\n",
    "    arr = ['X', 'Y', 'Z']\n",
    "    strs = [p for p in itertools.product(arr, repeat=n)]\n",
    "    return strs\n",
    "\n",
    "def \n",
    "\n",
    "sts = measurements_strings(2)\n",
    "print(sts)"
   ]
  },
  {
   "cell_type": "code",
   "execution_count": null,
   "id": "7125d1f9",
   "metadata": {},
   "outputs": [],
   "source": [
    "def get_exp_value(operator_exp, operators_meas, counts, shots):\n",
    "    \"\"\"\n",
    "    Parameters:\n",
    "        operator_exp: tuple\n",
    "        operators_meas: list\n",
    "        counts: list\n",
    "        shots: int\n",
    "    \"\"\"\n",
    "    new_counts = {}\n",
    "    ignore = []\n",
    "    \n",
    "    # if the operator of the expectation value contains the identity in any qubit\n",
    "    if 'I' in operator_exp: \n",
    "        rep_op = []\n",
    "        for idx, x in enumerate(operator_exp):\n",
    "            if x == 'I':\n",
    "                ignore.append(idx)\n",
    "                rep_op.append('X')\n",
    "            else:\n",
    "                rep_op.append(x) \n",
    "    # if there aren't any identities in the expectation operator\n",
    "    else:                   \n",
    "        rep_op = operator_exp\n",
    "        \n",
    "    # get index of operator_exp in experiment operator_meas, which is the same as in counts\n",
    "    for idx, x in enumerate(operators_meas):\n",
    "        if x == tuple(rep_op):\n",
    "            count_idx = idx\n",
    "\n",
    "    # create new counts dictionary\n",
    "    for idx, value in counts[count_idx].items():\n",
    "        w = idx[::-1]\n",
    "        for i in ignore:\n",
    "            w = w[:i] + 'x' + w[i + 1:]\n",
    "        if w in new_counts.keys():\n",
    "            new_counts[w] += value\n",
    "        else:\n",
    "            new_counts[w] = value\n",
    "                \n",
    "    # get expectation value\n",
    "    exp_value = 0\n",
    "    for idx, num_meas in new_counts.items():\n",
    "        meas_val = 1\n",
    "        for x in idx:\n",
    "            if x == '1':\n",
    "                meas_val *= -1\n",
    "            else:\n",
    "                pass        \n",
    "        exp_value += meas_val * num_meas\n",
    "    exp_value /= shots\n",
    "        \n",
    "    return exp_value"
   ]
  },
  {
   "cell_type": "code",
   "execution_count": null,
   "id": "8dacfbed",
   "metadata": {},
   "outputs": [],
   "source": [
    "def mu_optimize(mu, n):\n",
    "    # calculate eigenvalues of µ matrix\n",
    "    eigen = np.linalg.eig(mu)\n",
    "    vals  = eigen[0]\n",
    "    vecs  = eigen[1].transpose()\n",
    "\n",
    "    # order eigenvalues from largest to smallest\n",
    "    eig_vals = sorted(vals, reverse=True)\n",
    "    idx      = []\n",
    "    for val in eig_vals:\n",
    "        idx.append(np.where(vals == val)[0][0])\n",
    "    eig_vecs = []\n",
    "    for i in idx:\n",
    "        eig_vecs.append(vecs[i])\n",
    "        \n",
    "    # calculate eigenvalues of the density matrix\n",
    "    accumulator = 0\n",
    "    lamb_vals   = [None] * len(eig_vals)\n",
    "    for i in range(len(eig_vals) - 1, -1, -1):\n",
    "        if eig_vals[i] + (accumulator / (i + 1)) >= 0:\n",
    "            for j in range(i + 1):\n",
    "                lamb_vals[j] = eig_vals[j] +  (accumulator / (i + 1))\n",
    "            break\n",
    "        else:\n",
    "            lamb_vals[i] = 0\n",
    "            accumulator  += eig_vals[i]\n",
    "\n",
    "    # calculate density matrix\n",
    "    predicted_state = np.zeros((2 ** n, 2 ** n), 'complex')\n",
    "    for idx, lamb_val in enumerate(lamb_vals):\n",
    "        predicted_state += lamb_vals[idx] * np.outer(eig_vecs[idx], eig_vecs[idx].conj())\n",
    "    \n",
    "    return predicted_state"
   ]
  },
  {
   "cell_type": "code",
   "execution_count": null,
   "id": "2cc1441e",
   "metadata": {},
   "outputs": [],
   "source": [
    "def tomography(samples):\n",
    "    \"\"\"\n",
    "    Performs quantum state tomography in an n-qubit state.\n",
    "    \n",
    "    Parameters:\n",
    "        samples: int\n",
    "            Number of samples available of the input state\n",
    "    \n",
    "    Returns:\n",
    "        predicted_state: np.array\n",
    "            Density matrix of state predicted via quantum state tomography\n",
    "        fidelity: float\n",
    "            Fidelity of predicted state in respected to input state\n",
    "    \"\"\"\n",
    "#     # get number of qubits and bases to be measured in\n",
    "#     n     = int(np.log(len(input_state)) / np.log(2))\n",
    "    n = 2\n",
    "    bases = measurements_strings(n)\n",
    "    \n",
    "    # generate 3^n circuits with each measurement operator in {X, Y, Z}^n\n",
    "    circs = []\n",
    "    for base in bases:\n",
    "        qc = QuantumCircuit(n, n)\n",
    "        qc.initialize(input_state)\n",
    "        for idx, b in enumerate(base):\n",
    "            if b == 'X':\n",
    "                measure_x_basis(qc, idx)\n",
    "            elif b == 'Y':\n",
    "                measure_y_basis(qc, idx)\n",
    "            elif b == 'Z':\n",
    "                measure_z_basis(qc, idx)\n",
    "        circs.append(qc)\n",
    "    \n",
    "    # run circuits\n",
    "    backend = Aer.get_backend('qasm_simulator')\n",
    "    job     = execute(circs, backend, shots=samples) # each measurement basis gets a third of the available copies\n",
    "    counts  = job.result().get_counts()\n",
    "    \n",
    "    # get all expectation values\n",
    "    ops      = measurements_strings(n, arr=['I', 'X', 'Y', 'Z'])[1:] # we need to consider identity operator here\n",
    "    exp_vals = []\n",
    "    for op in ops:\n",
    "        exp_vals.append(get_exp_value(op, bases, counts, samples))\n",
    "\n",
    "    # calculate µ matrix \n",
    "    mu = tensor_operator(['I' for _ in range(n)])\n",
    "    for idx, op in enumerate(ops):\n",
    "        mu += exp_vals[idx] * tensor_operator(op)\n",
    "    mu /= (2 ** n)\n",
    "    \n",
    "    # optimize the µ matrix to get the predicted density matrix\n",
    "    predicted_state = mu_optimize(mu, n)\n",
    "    \n",
    "    # calculate fidelity\n",
    "    fidelity = input_state.conj().dot(predicted_state).dot(input_state)\n",
    "    \n",
    "    return predicted_state, fidelity"
   ]
  }
 ],
 "metadata": {
  "kernelspec": {
   "display_name": "Python [conda env:qiskit_env] *",
   "language": "python",
   "name": "conda-env-qiskit_env-py"
  },
  "language_info": {
   "codemirror_mode": {
    "name": "ipython",
    "version": 3
   },
   "file_extension": ".py",
   "mimetype": "text/x-python",
   "name": "python",
   "nbconvert_exporter": "python",
   "pygments_lexer": "ipython3",
   "version": "3.10.6"
  }
 },
 "nbformat": 4,
 "nbformat_minor": 5
}
