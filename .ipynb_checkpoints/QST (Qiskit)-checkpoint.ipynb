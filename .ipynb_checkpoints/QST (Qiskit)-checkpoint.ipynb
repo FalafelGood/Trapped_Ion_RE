{
 "cells": [
  {
   "cell_type": "code",
   "execution_count": 2,
   "id": "03da082e",
   "metadata": {},
   "outputs": [],
   "source": [
    "from qiskit import *\n",
    "from qiskit.circuit.random import random_circuit\n",
    "from qiskit.quantum_info import DensityMatrix\n",
    "import numpy as np\n",
    "from numpy.random import rand\n",
    "from scipy.linalg import ishermitian\n",
    "from numpy import kron\n",
    "from copy import copy\n",
    "import time"
   ]
  },
  {
   "cell_type": "markdown",
   "id": "e87fd9b8",
   "metadata": {},
   "source": [
    "## One Qubit Tomography in Qiskit"
   ]
  },
  {
   "cell_type": "code",
   "execution_count": 3,
   "id": "c77d823d",
   "metadata": {},
   "outputs": [
    {
     "name": "stdout",
     "output_type": "stream",
     "text": [
      "Z, X, Y\n",
      "[-1.0, 0.002, 0.0036]\n",
      "\n",
      "\n",
      "[[0.   +0.j     0.001-0.0018j]\n",
      " [0.001+0.0018j 1.   +0.j    ]]\n"
     ]
    }
   ],
   "source": [
    "# One-qubit tomography in Qiskit without optimization\n",
    "\n",
    "samples = 10000\n",
    "# Qiskit implementation of single qubit qst\n",
    "input_state = [0, 1]\n",
    "circuits = []\n",
    "    \n",
    "# Z basis measurement\n",
    "qc = QuantumCircuit(1)\n",
    "qc.initialize(input_state, 0)\n",
    "qc.measure_all()\n",
    "circuits.append(qc)\n",
    "    \n",
    "# X basis measurement\n",
    "qc = QuantumCircuit(1)\n",
    "qc.initialize(input_state, 0)\n",
    "qc.h(0)\n",
    "qc.measure_all()\n",
    "circuits.append(qc)\n",
    "    \n",
    "# Y basis measurement\n",
    "qc = QuantumCircuit(1)\n",
    "qc.initialize(input_state, 0)\n",
    "qc.sdg(0)\n",
    "qc.h(0)\n",
    "qc.measure_all()\n",
    "circuits.append(qc)\n",
    "    \n",
    "# run circuits\n",
    "backend = Aer.get_backend('qasm_simulator')\n",
    "job     = execute(circuits, backend, shots=samples)\n",
    "counts  = job.result().get_counts()\n",
    "    \n",
    "# get expectation values, ordered the same way as the circuits\n",
    "expectation_vals = []\n",
    "for count in counts:\n",
    "    m = (count.get('0', 0) - count.get('1', 0)) / samples\n",
    "    expectation_vals.append(m)\n",
    "\n",
    "print(\"Z, X, Y\")\n",
    "print(expectation_vals)\n",
    "X = np.matrix([[0,1],[1,0]])\n",
    "Y = np.matrix([[0,-1j],[1j, 0]])\n",
    "Z = np.matrix([[1,0],[0,-1]])\n",
    "I = np.matrix([[1,0],[0,1]])\n",
    "# Estimate density matrix\n",
    "print(\"\\n\")\n",
    "print((I + Z*expectation_vals[0] + X*expectation_vals[1] + Y*expectation_vals[2])/2)\n"
   ]
  }
 ],
 "metadata": {
  "kernelspec": {
   "display_name": "Python [conda env:qiskit_env] *",
   "language": "python",
   "name": "conda-env-qiskit_env-py"
  },
  "language_info": {
   "codemirror_mode": {
    "name": "ipython",
    "version": 3
   },
   "file_extension": ".py",
   "mimetype": "text/x-python",
   "name": "python",
   "nbconvert_exporter": "python",
   "pygments_lexer": "ipython3",
   "version": "3.10.6"
  }
 },
 "nbformat": 4,
 "nbformat_minor": 5
}
