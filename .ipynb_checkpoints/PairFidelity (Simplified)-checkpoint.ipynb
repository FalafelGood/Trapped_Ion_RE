{
 "cells": [
  {
   "cell_type": "code",
   "execution_count": 1,
   "id": "d0155093",
   "metadata": {},
   "outputs": [],
   "source": [
    "import stim\n",
    "import numpy as np\n",
    "import itertools\n",
    "from copy import copy\n",
    "from copy import deepcopy"
   ]
  },
  {
   "cell_type": "markdown",
   "id": "64b35fd5",
   "metadata": {},
   "source": [
    "### Fidelity of Bell pair vs. depolarizing noise on single qubit:\n",
    "\n",
    "$$\\mathcal{E}(\\rho) = (1-p)\\;\\rho + \\frac{p}{3} \\;(X_1 \\rho X_1 + Y_1 \\rho Y_1 + Z_1 \\rho Z_1) $$\n",
    "\n",
    "Therefore $F(\\mathcal{E}(\\rho)) = (1-p)$\n",
    "\n",
    "### Effect of parity check purification with depolarized bell pair:\n",
    "\n",
    "Let $\\rho_{in} = \\mathcal{E}(\\rho) \\otimes \\mathcal{E}(\\sigma)$"
   ]
  },
  {
   "cell_type": "code",
   "execution_count": 20,
   "id": "6b6940f2",
   "metadata": {},
   "outputs": [
    {
     "name": "stdout",
     "output_type": "stream",
     "text": [
      "[0.70710677+0.j 0.        +0.j 0.        +0.j 0.        +0.j\n",
      " 0.        +0.j 0.        +0.j 0.        +0.j 0.        +0.j\n",
      " 0.        +0.j 0.        +0.j 0.        +0.j 0.        +0.j\n",
      " 0.        +0.j 0.        +0.j 0.        +0.j 0.        +0.j\n",
      " 0.        +0.j 0.        +0.j 0.        +0.j 0.        +0.j\n",
      " 0.        +0.j 0.        +0.j 0.        +0.j 0.        +0.j\n",
      " 0.        +0.j 0.        +0.j 0.        +0.j 0.        +0.j\n",
      " 0.        +0.j 0.        +0.j 0.        +0.j 0.        +0.j\n",
      " 0.        +0.j 0.        +0.j 0.        +0.j 0.        +0.j\n",
      " 0.        +0.j 0.        +0.j 0.        +0.j 0.        +0.j\n",
      " 0.        +0.j 0.        +0.j 0.        +0.j 0.        +0.j\n",
      " 0.        +0.j 0.        +0.j 0.        +0.j 0.        +0.j\n",
      " 0.70710677+0.j 0.        +0.j 0.        +0.j 0.        +0.j\n",
      " 0.        +0.j 0.        +0.j 0.        +0.j 0.        +0.j\n",
      " 0.        +0.j 0.        +0.j 0.        +0.j 0.        +0.j\n",
      " 0.        +0.j 0.        +0.j 0.        +0.j 0.        +0.j]\n"
     ]
    },
    {
     "data": {
      "image/svg+xml": [
       "<svg viewBox=\"0 0 224 480\"  version=\"1.1\" xmlns=\"http://www.w3.org/2000/svg\">\n",
       "<g id=\"qubit_lines\">\n",
       "<path id=\"qubit_line:0\" d=\"M64,64 L192,64 \" stroke=\"black\"/>\n",
       "<text dominant-baseline=\"central\" text-anchor=\"end\" font-family=\"monospace\" font-size=\"12\" x=\"64\" y=\"64\">q0</text>\n",
       "<path id=\"qubit_line:1\" d=\"M64,128 L192,128 \" stroke=\"black\"/>\n",
       "<text dominant-baseline=\"central\" text-anchor=\"end\" font-family=\"monospace\" font-size=\"12\" x=\"64\" y=\"128\">q1</text>\n",
       "<path id=\"qubit_line:2\" d=\"M64,192 L192,192 \" stroke=\"black\"/>\n",
       "<text dominant-baseline=\"central\" text-anchor=\"end\" font-family=\"monospace\" font-size=\"12\" x=\"64\" y=\"192\">q2</text>\n",
       "<path id=\"qubit_line:3\" d=\"M64,256 L192,256 \" stroke=\"black\"/>\n",
       "<text dominant-baseline=\"central\" text-anchor=\"end\" font-family=\"monospace\" font-size=\"12\" x=\"64\" y=\"256\">q3</text>\n",
       "<path id=\"qubit_line:4\" d=\"M64,320 L192,320 \" stroke=\"black\"/>\n",
       "<text dominant-baseline=\"central\" text-anchor=\"end\" font-family=\"monospace\" font-size=\"12\" x=\"64\" y=\"320\">q4</text>\n",
       "<path id=\"qubit_line:5\" d=\"M64,384 L192,384 \" stroke=\"black\"/>\n",
       "<text dominant-baseline=\"central\" text-anchor=\"end\" font-family=\"monospace\" font-size=\"12\" x=\"64\" y=\"384\">q5</text>\n",
       "</g>\n",
       "<rect x=\"80\" y=\"304\" width=\"32\" height=\"32\" stroke=\"black\" fill=\"white\"/>\n",
       "<text dominant-baseline=\"central\" text-anchor=\"middle\" font-family=\"monospace\" font-size=\"30\" x=\"96\" y=\"320\">H</text>\n",
       "<path d=\"M160,320 L160,384 \" stroke=\"black\"/>\n",
       "<circle cx=\"160\" cy=\"320\" r=\"12\" stroke=\"none\" fill=\"black\"/>\n",
       "<circle cx=\"160\" cy=\"384\" r=\"12\" stroke=\"black\" fill=\"white\"/>\n",
       "<path d=\"M148,384 L172,384 M160,372 L160,396 \" stroke=\"black\"/>\n",
       "</svg>"
      ],
      "text/html": [
       "<div style=\"border: 1px dashed gray; margin-bottom: 50px; height: 512px; resize: both; overflow: hidden\"><img style=\"max-width: 100%; max-height: 100%\" src=\"data:image/svg+xml;base64,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\"/></div>"
      ],
      "text/plain": [
       "<svg viewBox=\"0 0 224 480\"  version=\"1.1\" xmlns=\"http://www.w3.org/2000/svg\">\n",
       "<g id=\"qubit_lines\">\n",
       "<path id=\"qubit_line:0\" d=\"M64,64 L192,64 \" stroke=\"black\"/>\n",
       "<text dominant-baseline=\"central\" text-anchor=\"end\" font-family=\"monospace\" font-size=\"12\" x=\"64\" y=\"64\">q0</text>\n",
       "<path id=\"qubit_line:1\" d=\"M64,128 L192,128 \" stroke=\"black\"/>\n",
       "<text dominant-baseline=\"central\" text-anchor=\"end\" font-family=\"monospace\" font-size=\"12\" x=\"64\" y=\"128\">q1</text>\n",
       "<path id=\"qubit_line:2\" d=\"M64,192 L192,192 \" stroke=\"black\"/>\n",
       "<text dominant-baseline=\"central\" text-anchor=\"end\" font-family=\"monospace\" font-size=\"12\" x=\"64\" y=\"192\">q2</text>\n",
       "<path id=\"qubit_line:3\" d=\"M64,256 L192,256 \" stroke=\"black\"/>\n",
       "<text dominant-baseline=\"central\" text-anchor=\"end\" font-family=\"monospace\" font-size=\"12\" x=\"64\" y=\"256\">q3</text>\n",
       "<path id=\"qubit_line:4\" d=\"M64,320 L192,320 \" stroke=\"black\"/>\n",
       "<text dominant-baseline=\"central\" text-anchor=\"end\" font-family=\"monospace\" font-size=\"12\" x=\"64\" y=\"320\">q4</text>\n",
       "<path id=\"qubit_line:5\" d=\"M64,384 L192,384 \" stroke=\"black\"/>\n",
       "<text dominant-baseline=\"central\" text-anchor=\"end\" font-family=\"monospace\" font-size=\"12\" x=\"64\" y=\"384\">q5</text>\n",
       "</g>\n",
       "<rect x=\"80\" y=\"304\" width=\"32\" height=\"32\" stroke=\"black\" fill=\"white\"/>\n",
       "<text dominant-baseline=\"central\" text-anchor=\"middle\" font-family=\"monospace\" font-size=\"30\" x=\"96\" y=\"320\">H</text>\n",
       "<path d=\"M160,320 L160,384 \" stroke=\"black\"/>\n",
       "<circle cx=\"160\" cy=\"320\" r=\"12\" stroke=\"none\" fill=\"black\"/>\n",
       "<circle cx=\"160\" cy=\"384\" r=\"12\" stroke=\"black\" fill=\"white\"/>\n",
       "<path d=\"M148,384 L172,384 M160,372 L160,396 \" stroke=\"black\"/>\n",
       "</svg>"
      ]
     },
     "execution_count": 20,
     "metadata": {},
     "output_type": "execute_result"
    }
   ],
   "source": [
    "def ideal_pair_sv():\n",
    "    circuit = stim.Circuit()\n",
    "    circuit.append(\"H\", 4)\n",
    "    circuit.append(\"CNOT\", [4,5])\n",
    "    simulator = stim.TableauSimulator()\n",
    "    simulator.do(circuit)\n",
    "    return circuit, simulator.state_vector()\n",
    "\n",
    "ideal_circuit, ideal_sv = ideal_pair_sv()\n",
    "print(ideal_sv)\n",
    "ideal_circuit.diagram(type=\"timeline-svg\")"
   ]
  },
  {
   "cell_type": "code",
   "execution_count": 23,
   "id": "fb3dde74",
   "metadata": {},
   "outputs": [
    {
     "data": {
      "image/svg+xml": [
       "<svg viewBox=\"0 0 864 480\"  version=\"1.1\" xmlns=\"http://www.w3.org/2000/svg\">\n",
       "<g id=\"qubit_lines\">\n",
       "<path id=\"qubit_line:0\" d=\"M64,64 L832,64 \" stroke=\"black\"/>\n",
       "<text dominant-baseline=\"central\" text-anchor=\"end\" font-family=\"monospace\" font-size=\"12\" x=\"64\" y=\"64\">q0</text>\n",
       "<path id=\"qubit_line:1\" d=\"M64,128 L832,128 \" stroke=\"black\"/>\n",
       "<text dominant-baseline=\"central\" text-anchor=\"end\" font-family=\"monospace\" font-size=\"12\" x=\"64\" y=\"128\">q1</text>\n",
       "<path id=\"qubit_line:2\" d=\"M64,192 L832,192 \" stroke=\"black\"/>\n",
       "<text dominant-baseline=\"central\" text-anchor=\"end\" font-family=\"monospace\" font-size=\"12\" x=\"64\" y=\"192\">q2</text>\n",
       "<path id=\"qubit_line:3\" d=\"M64,256 L832,256 \" stroke=\"black\"/>\n",
       "<text dominant-baseline=\"central\" text-anchor=\"end\" font-family=\"monospace\" font-size=\"12\" x=\"64\" y=\"256\">q3</text>\n",
       "<path id=\"qubit_line:4\" d=\"M64,320 L832,320 \" stroke=\"black\"/>\n",
       "<text dominant-baseline=\"central\" text-anchor=\"end\" font-family=\"monospace\" font-size=\"12\" x=\"64\" y=\"320\">q4</text>\n",
       "<path id=\"qubit_line:5\" d=\"M64,384 L832,384 \" stroke=\"black\"/>\n",
       "<text dominant-baseline=\"central\" text-anchor=\"end\" font-family=\"monospace\" font-size=\"12\" x=\"64\" y=\"384\">q5</text>\n",
       "</g>\n",
       "<rect x=\"80\" y=\"48\" width=\"32\" height=\"32\" stroke=\"black\" fill=\"white\"/>\n",
       "<text dominant-baseline=\"central\" text-anchor=\"middle\" font-family=\"monospace\" font-size=\"30\" x=\"96\" y=\"64\">H</text>\n",
       "<rect x=\"80\" y=\"112\" width=\"32\" height=\"32\" stroke=\"black\" fill=\"white\"/>\n",
       "<text dominant-baseline=\"central\" text-anchor=\"middle\" font-family=\"monospace\" font-size=\"30\" x=\"96\" y=\"128\">H</text>\n",
       "<path d=\"M160,64 L160,256 \" stroke=\"black\"/>\n",
       "<circle cx=\"160\" cy=\"64\" r=\"12\" stroke=\"none\" fill=\"black\"/>\n",
       "<circle cx=\"160\" cy=\"256\" r=\"12\" stroke=\"black\" fill=\"white\"/>\n",
       "<path d=\"M148,256 L172,256 M160,244 L160,268 \" stroke=\"black\"/>\n",
       "<path d=\"M224,128 L224,192 \" stroke=\"black\"/>\n",
       "<circle cx=\"224\" cy=\"128\" r=\"12\" stroke=\"none\" fill=\"black\"/>\n",
       "<circle cx=\"224\" cy=\"192\" r=\"12\" stroke=\"black\" fill=\"white\"/>\n",
       "<path d=\"M212,192 L236,192 M224,180 L224,204 \" stroke=\"black\"/>\n",
       "<rect x=\"208\" y=\"48\" width=\"32\" height=\"32\" stroke=\"black\" fill=\"pink\"/>\n",
       "<text dominant-baseline=\"central\" text-anchor=\"middle\" font-family=\"monospace\" font-size=\"12\" x=\"224\" y=\"64\">DEP<tspan baseline-shift=\"sub\" font-size=\"10\">1</tspan></text>\n",
       "<text dominant-baseline=\"hanging\" text-anchor=\"middle\" font-family=\"monospace\" font-size=\"10\" stroke=\"red\" x=\"224\" y=\"84\">0</text>\n",
       "<rect x=\"272\" y=\"112\" width=\"32\" height=\"32\" stroke=\"black\" fill=\"pink\"/>\n",
       "<text dominant-baseline=\"central\" text-anchor=\"middle\" font-family=\"monospace\" font-size=\"12\" x=\"288\" y=\"128\">DEP<tspan baseline-shift=\"sub\" font-size=\"10\">1</tspan></text>\n",
       "<text dominant-baseline=\"hanging\" text-anchor=\"middle\" font-family=\"monospace\" font-size=\"10\" stroke=\"red\" x=\"288\" y=\"148\">0</text>\n",
       "<path d=\"M352,64 L352,128 \" stroke=\"black\"/>\n",
       "<rect x=\"336\" y=\"112\" width=\"32\" height=\"32\" stroke=\"black\" fill=\"pink\"/>\n",
       "<text dominant-baseline=\"central\" text-anchor=\"middle\" font-family=\"monospace\" font-size=\"12\" x=\"352\" y=\"128\">DEP<tspan baseline-shift=\"sub\" font-size=\"10\">2</tspan></text>\n",
       "<text dominant-baseline=\"hanging\" text-anchor=\"middle\" font-family=\"monospace\" font-size=\"10\" stroke=\"red\" x=\"352\" y=\"148\">0</text>\n",
       "<rect x=\"336\" y=\"48\" width=\"32\" height=\"32\" stroke=\"black\" fill=\"pink\"/>\n",
       "<text dominant-baseline=\"central\" text-anchor=\"middle\" font-family=\"monospace\" font-size=\"12\" x=\"352\" y=\"64\">DEP<tspan baseline-shift=\"sub\" font-size=\"10\">2</tspan></text>\n",
       "<path d=\"M352,192 L352,256 \" stroke=\"black\"/>\n",
       "<rect x=\"336\" y=\"176\" width=\"32\" height=\"32\" stroke=\"black\" fill=\"pink\"/>\n",
       "<text dominant-baseline=\"central\" text-anchor=\"middle\" font-family=\"monospace\" font-size=\"12\" x=\"352\" y=\"192\">DEP<tspan baseline-shift=\"sub\" font-size=\"10\">2</tspan></text>\n",
       "<rect x=\"336\" y=\"240\" width=\"32\" height=\"32\" stroke=\"black\" fill=\"pink\"/>\n",
       "<text dominant-baseline=\"central\" text-anchor=\"middle\" font-family=\"monospace\" font-size=\"12\" x=\"352\" y=\"256\">DEP<tspan baseline-shift=\"sub\" font-size=\"10\">2</tspan></text>\n",
       "<text dominant-baseline=\"hanging\" text-anchor=\"middle\" font-family=\"monospace\" font-size=\"10\" stroke=\"red\" x=\"352\" y=\"276\">0</text>\n",
       "<path d=\"M416,64 L416,128 \" stroke=\"black\"/>\n",
       "<circle cx=\"416\" cy=\"128\" r=\"12\" stroke=\"none\" fill=\"black\"/>\n",
       "<circle cx=\"416\" cy=\"64\" r=\"12\" stroke=\"black\" fill=\"white\"/>\n",
       "<path d=\"M404,64 L428,64 M416,52 L416,76 \" stroke=\"black\"/>\n",
       "<path d=\"M416,192 L416,256 \" stroke=\"black\"/>\n",
       "<circle cx=\"416\" cy=\"192\" r=\"12\" stroke=\"none\" fill=\"black\"/>\n",
       "<circle cx=\"416\" cy=\"256\" r=\"12\" stroke=\"black\" fill=\"white\"/>\n",
       "<path d=\"M404,256 L428,256 M416,244 L416,268 \" stroke=\"black\"/>\n",
       "<path d=\"M480,128 L480,320 \" stroke=\"black\"/>\n",
       "<rect x=\"464\" y=\"112\" width=\"32\" height=\"32\" stroke=\"black\" fill=\"pink\"/>\n",
       "<text dominant-baseline=\"central\" text-anchor=\"middle\" font-family=\"monospace\" font-size=\"12\" x=\"480\" y=\"128\">DEP<tspan baseline-shift=\"sub\" font-size=\"10\">2</tspan></text>\n",
       "<rect x=\"464\" y=\"304\" width=\"32\" height=\"32\" stroke=\"black\" fill=\"pink\"/>\n",
       "<text dominant-baseline=\"central\" text-anchor=\"middle\" font-family=\"monospace\" font-size=\"12\" x=\"480\" y=\"320\">DEP<tspan baseline-shift=\"sub\" font-size=\"10\">2</tspan></text>\n",
       "<text dominant-baseline=\"hanging\" text-anchor=\"middle\" font-family=\"monospace\" font-size=\"10\" stroke=\"red\" x=\"480\" y=\"340\">0</text>\n",
       "<path d=\"M544,192 L544,384 \" stroke=\"black\"/>\n",
       "<rect x=\"528\" y=\"176\" width=\"32\" height=\"32\" stroke=\"black\" fill=\"pink\"/>\n",
       "<text dominant-baseline=\"central\" text-anchor=\"middle\" font-family=\"monospace\" font-size=\"12\" x=\"544\" y=\"192\">DEP<tspan baseline-shift=\"sub\" font-size=\"10\">2</tspan></text>\n",
       "<rect x=\"528\" y=\"368\" width=\"32\" height=\"32\" stroke=\"black\" fill=\"pink\"/>\n",
       "<text dominant-baseline=\"central\" text-anchor=\"middle\" font-family=\"monospace\" font-size=\"12\" x=\"544\" y=\"384\">DEP<tspan baseline-shift=\"sub\" font-size=\"10\">2</tspan></text>\n",
       "<text dominant-baseline=\"hanging\" text-anchor=\"middle\" font-family=\"monospace\" font-size=\"10\" stroke=\"red\" x=\"544\" y=\"404\">0</text>\n",
       "<path d=\"M608,128 L608,320 \" stroke=\"black\"/>\n",
       "<circle cx=\"608\" cy=\"128\" r=\"12\" stroke=\"none\" fill=\"black\"/>\n",
       "<circle cx=\"608\" cy=\"320\" r=\"12\" stroke=\"black\" fill=\"white\"/>\n",
       "<path d=\"M596,320 L620,320 M608,308 L608,332 \" stroke=\"black\"/>\n",
       "<path d=\"M672,192 L672,384 \" stroke=\"black\"/>\n",
       "<circle cx=\"672\" cy=\"192\" r=\"12\" stroke=\"none\" fill=\"black\"/>\n",
       "<circle cx=\"672\" cy=\"384\" r=\"12\" stroke=\"black\" fill=\"white\"/>\n",
       "<path d=\"M660,384 L684,384 M672,372 L672,396 \" stroke=\"black\"/>\n",
       "<rect x=\"656\" y=\"48\" width=\"32\" height=\"32\" stroke=\"black\" fill=\"black\"/>\n",
       "<text dominant-baseline=\"central\" text-anchor=\"middle\" font-family=\"monospace\" font-size=\"30\" x=\"672\" y=\"64\" fill=\"white\">M</text>\n",
       "<text text-anchor=\"middle\" font-family=\"monospace\" font-size=\"8\" x=\"672\" y=\"44\">rec[0]</text>\n",
       "<rect x=\"720\" y=\"240\" width=\"32\" height=\"32\" stroke=\"black\" fill=\"black\"/>\n",
       "<text dominant-baseline=\"central\" text-anchor=\"middle\" font-family=\"monospace\" font-size=\"30\" x=\"736\" y=\"256\" fill=\"white\">M</text>\n",
       "<text text-anchor=\"middle\" font-family=\"monospace\" font-size=\"8\" x=\"736\" y=\"236\">rec[1]</text>\n",
       "<rect x=\"720\" y=\"112\" width=\"32\" height=\"32\" stroke=\"black\" fill=\"black\"/>\n",
       "<text dominant-baseline=\"central\" text-anchor=\"middle\" font-family=\"monospace\" font-size=\"26\" x=\"736\" y=\"128\" fill=\"white\">M<tspan baseline-shift=\"sub\" font-size=\"16\">X</tspan></text>\n",
       "<text text-anchor=\"middle\" font-family=\"monospace\" font-size=\"8\" x=\"736\" y=\"108\">rec[2]</text>\n",
       "<rect x=\"720\" y=\"176\" width=\"32\" height=\"32\" stroke=\"black\" fill=\"black\"/>\n",
       "<text dominant-baseline=\"central\" text-anchor=\"middle\" font-family=\"monospace\" font-size=\"26\" x=\"736\" y=\"192\" fill=\"white\">M<tspan baseline-shift=\"sub\" font-size=\"16\">X</tspan></text>\n",
       "<text text-anchor=\"middle\" font-family=\"monospace\" font-size=\"8\" x=\"736\" y=\"172\">rec[3]</text>\n",
       "<rect x=\"720\" y=\"48\" width=\"32\" height=\"32\" stroke=\"black\" fill=\"black\"/>\n",
       "<text dominant-baseline=\"central\" text-anchor=\"middle\" font-family=\"monospace\" font-size=\"30\" x=\"736\" y=\"64\" fill=\"white\">R</text>\n",
       "<rect x=\"784\" y=\"112\" width=\"32\" height=\"32\" stroke=\"black\" fill=\"black\"/>\n",
       "<text dominant-baseline=\"central\" text-anchor=\"middle\" font-family=\"monospace\" font-size=\"30\" x=\"800\" y=\"128\" fill=\"white\">R</text>\n",
       "<rect x=\"784\" y=\"176\" width=\"32\" height=\"32\" stroke=\"black\" fill=\"black\"/>\n",
       "<text dominant-baseline=\"central\" text-anchor=\"middle\" font-family=\"monospace\" font-size=\"30\" x=\"800\" y=\"192\" fill=\"white\">R</text>\n",
       "<rect x=\"784\" y=\"240\" width=\"32\" height=\"32\" stroke=\"black\" fill=\"black\"/>\n",
       "<text dominant-baseline=\"central\" text-anchor=\"middle\" font-family=\"monospace\" font-size=\"30\" x=\"800\" y=\"256\" fill=\"white\">R</text>\n",
       "</svg>"
      ],
      "text/html": [
       "<div style=\"border: 1px dashed gray; margin-bottom: 50px; height: 512px; resize: both; overflow: hidden\"><img style=\"max-width: 100%; max-height: 100%\" src=\"data:image/svg+xml;base64,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\"/></div>"
      ],
      "text/plain": [
       "<svg viewBox=\"0 0 864 480\"  version=\"1.1\" xmlns=\"http://www.w3.org/2000/svg\">\n",
       "<g id=\"qubit_lines\">\n",
       "<path id=\"qubit_line:0\" d=\"M64,64 L832,64 \" stroke=\"black\"/>\n",
       "<text dominant-baseline=\"central\" text-anchor=\"end\" font-family=\"monospace\" font-size=\"12\" x=\"64\" y=\"64\">q0</text>\n",
       "<path id=\"qubit_line:1\" d=\"M64,128 L832,128 \" stroke=\"black\"/>\n",
       "<text dominant-baseline=\"central\" text-anchor=\"end\" font-family=\"monospace\" font-size=\"12\" x=\"64\" y=\"128\">q1</text>\n",
       "<path id=\"qubit_line:2\" d=\"M64,192 L832,192 \" stroke=\"black\"/>\n",
       "<text dominant-baseline=\"central\" text-anchor=\"end\" font-family=\"monospace\" font-size=\"12\" x=\"64\" y=\"192\">q2</text>\n",
       "<path id=\"qubit_line:3\" d=\"M64,256 L832,256 \" stroke=\"black\"/>\n",
       "<text dominant-baseline=\"central\" text-anchor=\"end\" font-family=\"monospace\" font-size=\"12\" x=\"64\" y=\"256\">q3</text>\n",
       "<path id=\"qubit_line:4\" d=\"M64,320 L832,320 \" stroke=\"black\"/>\n",
       "<text dominant-baseline=\"central\" text-anchor=\"end\" font-family=\"monospace\" font-size=\"12\" x=\"64\" y=\"320\">q4</text>\n",
       "<path id=\"qubit_line:5\" d=\"M64,384 L832,384 \" stroke=\"black\"/>\n",
       "<text dominant-baseline=\"central\" text-anchor=\"end\" font-family=\"monospace\" font-size=\"12\" x=\"64\" y=\"384\">q5</text>\n",
       "</g>\n",
       "<rect x=\"80\" y=\"48\" width=\"32\" height=\"32\" stroke=\"black\" fill=\"white\"/>\n",
       "<text dominant-baseline=\"central\" text-anchor=\"middle\" font-family=\"monospace\" font-size=\"30\" x=\"96\" y=\"64\">H</text>\n",
       "<rect x=\"80\" y=\"112\" width=\"32\" height=\"32\" stroke=\"black\" fill=\"white\"/>\n",
       "<text dominant-baseline=\"central\" text-anchor=\"middle\" font-family=\"monospace\" font-size=\"30\" x=\"96\" y=\"128\">H</text>\n",
       "<path d=\"M160,64 L160,256 \" stroke=\"black\"/>\n",
       "<circle cx=\"160\" cy=\"64\" r=\"12\" stroke=\"none\" fill=\"black\"/>\n",
       "<circle cx=\"160\" cy=\"256\" r=\"12\" stroke=\"black\" fill=\"white\"/>\n",
       "<path d=\"M148,256 L172,256 M160,244 L160,268 \" stroke=\"black\"/>\n",
       "<path d=\"M224,128 L224,192 \" stroke=\"black\"/>\n",
       "<circle cx=\"224\" cy=\"128\" r=\"12\" stroke=\"none\" fill=\"black\"/>\n",
       "<circle cx=\"224\" cy=\"192\" r=\"12\" stroke=\"black\" fill=\"white\"/>\n",
       "<path d=\"M212,192 L236,192 M224,180 L224,204 \" stroke=\"black\"/>\n",
       "<rect x=\"208\" y=\"48\" width=\"32\" height=\"32\" stroke=\"black\" fill=\"pink\"/>\n",
       "<text dominant-baseline=\"central\" text-anchor=\"middle\" font-family=\"monospace\" font-size=\"12\" x=\"224\" y=\"64\">DEP<tspan baseline-shift=\"sub\" font-size=\"10\">1</tspan></text>\n",
       "<text dominant-baseline=\"hanging\" text-anchor=\"middle\" font-family=\"monospace\" font-size=\"10\" stroke=\"red\" x=\"224\" y=\"84\">0</text>\n",
       "<rect x=\"272\" y=\"112\" width=\"32\" height=\"32\" stroke=\"black\" fill=\"pink\"/>\n",
       "<text dominant-baseline=\"central\" text-anchor=\"middle\" font-family=\"monospace\" font-size=\"12\" x=\"288\" y=\"128\">DEP<tspan baseline-shift=\"sub\" font-size=\"10\">1</tspan></text>\n",
       "<text dominant-baseline=\"hanging\" text-anchor=\"middle\" font-family=\"monospace\" font-size=\"10\" stroke=\"red\" x=\"288\" y=\"148\">0</text>\n",
       "<path d=\"M352,64 L352,128 \" stroke=\"black\"/>\n",
       "<rect x=\"336\" y=\"112\" width=\"32\" height=\"32\" stroke=\"black\" fill=\"pink\"/>\n",
       "<text dominant-baseline=\"central\" text-anchor=\"middle\" font-family=\"monospace\" font-size=\"12\" x=\"352\" y=\"128\">DEP<tspan baseline-shift=\"sub\" font-size=\"10\">2</tspan></text>\n",
       "<text dominant-baseline=\"hanging\" text-anchor=\"middle\" font-family=\"monospace\" font-size=\"10\" stroke=\"red\" x=\"352\" y=\"148\">0</text>\n",
       "<rect x=\"336\" y=\"48\" width=\"32\" height=\"32\" stroke=\"black\" fill=\"pink\"/>\n",
       "<text dominant-baseline=\"central\" text-anchor=\"middle\" font-family=\"monospace\" font-size=\"12\" x=\"352\" y=\"64\">DEP<tspan baseline-shift=\"sub\" font-size=\"10\">2</tspan></text>\n",
       "<path d=\"M352,192 L352,256 \" stroke=\"black\"/>\n",
       "<rect x=\"336\" y=\"176\" width=\"32\" height=\"32\" stroke=\"black\" fill=\"pink\"/>\n",
       "<text dominant-baseline=\"central\" text-anchor=\"middle\" font-family=\"monospace\" font-size=\"12\" x=\"352\" y=\"192\">DEP<tspan baseline-shift=\"sub\" font-size=\"10\">2</tspan></text>\n",
       "<rect x=\"336\" y=\"240\" width=\"32\" height=\"32\" stroke=\"black\" fill=\"pink\"/>\n",
       "<text dominant-baseline=\"central\" text-anchor=\"middle\" font-family=\"monospace\" font-size=\"12\" x=\"352\" y=\"256\">DEP<tspan baseline-shift=\"sub\" font-size=\"10\">2</tspan></text>\n",
       "<text dominant-baseline=\"hanging\" text-anchor=\"middle\" font-family=\"monospace\" font-size=\"10\" stroke=\"red\" x=\"352\" y=\"276\">0</text>\n",
       "<path d=\"M416,64 L416,128 \" stroke=\"black\"/>\n",
       "<circle cx=\"416\" cy=\"128\" r=\"12\" stroke=\"none\" fill=\"black\"/>\n",
       "<circle cx=\"416\" cy=\"64\" r=\"12\" stroke=\"black\" fill=\"white\"/>\n",
       "<path d=\"M404,64 L428,64 M416,52 L416,76 \" stroke=\"black\"/>\n",
       "<path d=\"M416,192 L416,256 \" stroke=\"black\"/>\n",
       "<circle cx=\"416\" cy=\"192\" r=\"12\" stroke=\"none\" fill=\"black\"/>\n",
       "<circle cx=\"416\" cy=\"256\" r=\"12\" stroke=\"black\" fill=\"white\"/>\n",
       "<path d=\"M404,256 L428,256 M416,244 L416,268 \" stroke=\"black\"/>\n",
       "<path d=\"M480,128 L480,320 \" stroke=\"black\"/>\n",
       "<rect x=\"464\" y=\"112\" width=\"32\" height=\"32\" stroke=\"black\" fill=\"pink\"/>\n",
       "<text dominant-baseline=\"central\" text-anchor=\"middle\" font-family=\"monospace\" font-size=\"12\" x=\"480\" y=\"128\">DEP<tspan baseline-shift=\"sub\" font-size=\"10\">2</tspan></text>\n",
       "<rect x=\"464\" y=\"304\" width=\"32\" height=\"32\" stroke=\"black\" fill=\"pink\"/>\n",
       "<text dominant-baseline=\"central\" text-anchor=\"middle\" font-family=\"monospace\" font-size=\"12\" x=\"480\" y=\"320\">DEP<tspan baseline-shift=\"sub\" font-size=\"10\">2</tspan></text>\n",
       "<text dominant-baseline=\"hanging\" text-anchor=\"middle\" font-family=\"monospace\" font-size=\"10\" stroke=\"red\" x=\"480\" y=\"340\">0</text>\n",
       "<path d=\"M544,192 L544,384 \" stroke=\"black\"/>\n",
       "<rect x=\"528\" y=\"176\" width=\"32\" height=\"32\" stroke=\"black\" fill=\"pink\"/>\n",
       "<text dominant-baseline=\"central\" text-anchor=\"middle\" font-family=\"monospace\" font-size=\"12\" x=\"544\" y=\"192\">DEP<tspan baseline-shift=\"sub\" font-size=\"10\">2</tspan></text>\n",
       "<rect x=\"528\" y=\"368\" width=\"32\" height=\"32\" stroke=\"black\" fill=\"pink\"/>\n",
       "<text dominant-baseline=\"central\" text-anchor=\"middle\" font-family=\"monospace\" font-size=\"12\" x=\"544\" y=\"384\">DEP<tspan baseline-shift=\"sub\" font-size=\"10\">2</tspan></text>\n",
       "<text dominant-baseline=\"hanging\" text-anchor=\"middle\" font-family=\"monospace\" font-size=\"10\" stroke=\"red\" x=\"544\" y=\"404\">0</text>\n",
       "<path d=\"M608,128 L608,320 \" stroke=\"black\"/>\n",
       "<circle cx=\"608\" cy=\"128\" r=\"12\" stroke=\"none\" fill=\"black\"/>\n",
       "<circle cx=\"608\" cy=\"320\" r=\"12\" stroke=\"black\" fill=\"white\"/>\n",
       "<path d=\"M596,320 L620,320 M608,308 L608,332 \" stroke=\"black\"/>\n",
       "<path d=\"M672,192 L672,384 \" stroke=\"black\"/>\n",
       "<circle cx=\"672\" cy=\"192\" r=\"12\" stroke=\"none\" fill=\"black\"/>\n",
       "<circle cx=\"672\" cy=\"384\" r=\"12\" stroke=\"black\" fill=\"white\"/>\n",
       "<path d=\"M660,384 L684,384 M672,372 L672,396 \" stroke=\"black\"/>\n",
       "<rect x=\"656\" y=\"48\" width=\"32\" height=\"32\" stroke=\"black\" fill=\"black\"/>\n",
       "<text dominant-baseline=\"central\" text-anchor=\"middle\" font-family=\"monospace\" font-size=\"30\" x=\"672\" y=\"64\" fill=\"white\">M</text>\n",
       "<text text-anchor=\"middle\" font-family=\"monospace\" font-size=\"8\" x=\"672\" y=\"44\">rec[0]</text>\n",
       "<rect x=\"720\" y=\"240\" width=\"32\" height=\"32\" stroke=\"black\" fill=\"black\"/>\n",
       "<text dominant-baseline=\"central\" text-anchor=\"middle\" font-family=\"monospace\" font-size=\"30\" x=\"736\" y=\"256\" fill=\"white\">M</text>\n",
       "<text text-anchor=\"middle\" font-family=\"monospace\" font-size=\"8\" x=\"736\" y=\"236\">rec[1]</text>\n",
       "<rect x=\"720\" y=\"112\" width=\"32\" height=\"32\" stroke=\"black\" fill=\"black\"/>\n",
       "<text dominant-baseline=\"central\" text-anchor=\"middle\" font-family=\"monospace\" font-size=\"26\" x=\"736\" y=\"128\" fill=\"white\">M<tspan baseline-shift=\"sub\" font-size=\"16\">X</tspan></text>\n",
       "<text text-anchor=\"middle\" font-family=\"monospace\" font-size=\"8\" x=\"736\" y=\"108\">rec[2]</text>\n",
       "<rect x=\"720\" y=\"176\" width=\"32\" height=\"32\" stroke=\"black\" fill=\"black\"/>\n",
       "<text dominant-baseline=\"central\" text-anchor=\"middle\" font-family=\"monospace\" font-size=\"26\" x=\"736\" y=\"192\" fill=\"white\">M<tspan baseline-shift=\"sub\" font-size=\"16\">X</tspan></text>\n",
       "<text text-anchor=\"middle\" font-family=\"monospace\" font-size=\"8\" x=\"736\" y=\"172\">rec[3]</text>\n",
       "<rect x=\"720\" y=\"48\" width=\"32\" height=\"32\" stroke=\"black\" fill=\"black\"/>\n",
       "<text dominant-baseline=\"central\" text-anchor=\"middle\" font-family=\"monospace\" font-size=\"30\" x=\"736\" y=\"64\" fill=\"white\">R</text>\n",
       "<rect x=\"784\" y=\"112\" width=\"32\" height=\"32\" stroke=\"black\" fill=\"black\"/>\n",
       "<text dominant-baseline=\"central\" text-anchor=\"middle\" font-family=\"monospace\" font-size=\"30\" x=\"800\" y=\"128\" fill=\"white\">R</text>\n",
       "<rect x=\"784\" y=\"176\" width=\"32\" height=\"32\" stroke=\"black\" fill=\"black\"/>\n",
       "<text dominant-baseline=\"central\" text-anchor=\"middle\" font-family=\"monospace\" font-size=\"30\" x=\"800\" y=\"192\" fill=\"white\">R</text>\n",
       "<rect x=\"784\" y=\"240\" width=\"32\" height=\"32\" stroke=\"black\" fill=\"black\"/>\n",
       "<text dominant-baseline=\"central\" text-anchor=\"middle\" font-family=\"monospace\" font-size=\"30\" x=\"800\" y=\"256\" fill=\"white\">R</text>\n",
       "</svg>"
      ]
     },
     "execution_count": 23,
     "metadata": {},
     "output_type": "execute_result"
    }
   ],
   "source": [
    "def simple_pair_fidelity(p1 = 0, p2 = 0.00):\n",
    "    circuit = stim.Circuit()\n",
    "    # Bell state preperation\n",
    "    circuit.append(\"H\", [0,1])\n",
    "    circuit.append(\"CNOT\", [0,3,1,2])\n",
    "    circuit.append(\"DEPOLARIZE1\", [0,1], p1)\n",
    "    # Error prone cloning and teleportation\n",
    "    circuit.append(\"DEPOLARIZE2\", [1,0,2,3], p2)\n",
    "    circuit.append(\"CNOT\", [1,0,2,3])\n",
    "    circuit.append(\"DEPOLARIZE2\", [1,4,2,5], p2)\n",
    "    circuit.append(\"CNOT\", [1,4,2,5])\n",
    "    circuit.append(\"MZ\", [0,3])\n",
    "    circuit.append(\"MX\", [1,2])\n",
    "    circuit.append(\"R\", [0,1,2,3])\n",
    "    return circuit\n",
    "\n",
    "circuit = simple_pair_fidelity()\n",
    "circuit.diagram(type=\"timeline-svg\")"
   ]
  },
  {
   "cell_type": "code",
   "execution_count": 58,
   "id": "52de8805",
   "metadata": {},
   "outputs": [
    {
     "name": "stdout",
     "output_type": "stream",
     "text": [
      "Purification measurements (0, 0)\n",
      "Teleportation measurements (1, 0)\n",
      "[0.70710677+0.j 0.        +0.j 0.        +0.j 0.        +0.j\n",
      " 0.        +0.j 0.        +0.j 0.        +0.j 0.        +0.j\n",
      " 0.        +0.j 0.        +0.j 0.        +0.j 0.        +0.j\n",
      " 0.        +0.j 0.        +0.j 0.        +0.j 0.        +0.j\n",
      " 0.        +0.j 0.        +0.j 0.        +0.j 0.        +0.j\n",
      " 0.        +0.j 0.        +0.j 0.        +0.j 0.        +0.j\n",
      " 0.        +0.j 0.        +0.j 0.        +0.j 0.        +0.j\n",
      " 0.        +0.j 0.        +0.j 0.        +0.j 0.        +0.j\n",
      " 0.        +0.j 0.        +0.j 0.        +0.j 0.        +0.j\n",
      " 0.        +0.j 0.        +0.j 0.        +0.j 0.        +0.j\n",
      " 0.        +0.j 0.        +0.j 0.        +0.j 0.        +0.j\n",
      " 0.        +0.j 0.        +0.j 0.        +0.j 0.        +0.j\n",
      " 0.70710677+0.j 0.        +0.j 0.        +0.j 0.        +0.j\n",
      " 0.        +0.j 0.        +0.j 0.        +0.j 0.        +0.j\n",
      " 0.        +0.j 0.        +0.j 0.        +0.j 0.        +0.j\n",
      " 0.        +0.j 0.        +0.j 0.        +0.j 0.        +0.j]\n"
     ]
    }
   ],
   "source": [
    "simulator = stim.TableauSimulator()\n",
    "simulator.do(circuit)\n",
    "results = simulator.current_measurement_record()\n",
    "tf = {True:0, False:1}\n",
    "print(f\"Purification measurements {tf[results[0]], tf[results[1]]}\")\n",
    "print(f\"Teleportation measurements {tf[results[2]], tf[results[3]]}\")\n",
    "if results[-2]: simulator.z(4);\n",
    "if results[-1]: simulator.z(5);\n",
    "print(simulator.state_vector())\n",
    "\n",
    "# Probably this is just undetectable Z and X error. Can we account for this?\n",
    "# Interestingly though, there are measurement scenarios where purification *FAILS* but still correctly teleports if \n",
    "# measurement parities coincide. Is this accidental?"
   ]
  },
  {
   "cell_type": "code",
   "execution_count": 21,
   "id": "12fb342e",
   "metadata": {},
   "outputs": [
    {
     "data": {
      "text/plain": [
       "(0.9685999421362543+0j)"
      ]
     },
     "execution_count": 21,
     "metadata": {},
     "output_type": "execute_result"
    }
   ],
   "source": [
    "# Interestingly, this is even without post-selecting on specific measurement outcomes\n",
    "def estimate_fidelity(circuit, num_trials):\n",
    "    aveF = 0\n",
    "    for i in range(num_trials):\n",
    "        simulator = stim.TableauSimulator()\n",
    "        simulator.do(circuit)\n",
    "        results = simulator.current_measurement_record()\n",
    "        if results[-2]: simulator.z(4);\n",
    "        if results[-1]: simulator.z(5);\n",
    "        F = np.inner(simulator.state_vector(), ideal_sv)\n",
    "        aveF += F\n",
    "    aveF = aveF / num_trials\n",
    "    return aveF\n",
    "\n",
    "estimate_fidelity(circuit, 10000)"
   ]
  },
  {
   "cell_type": "code",
   "execution_count": 574,
   "id": "b849fcee",
   "metadata": {},
   "outputs": [
    {
     "name": "stdout",
     "output_type": "stream",
     "text": [
      "(0.9701999420370794+0j)\n"
     ]
    },
    {
     "data": {
      "text/plain": [
       "(0.9745067703338359+0j)"
      ]
     },
     "execution_count": 574,
     "metadata": {},
     "output_type": "execute_result"
    }
   ],
   "source": [
    "# Interestingly, this is even without post-selecting on specific measurement outcomes\n",
    "def estimate_fidelity_with_postselection(circuit, num_trials):\n",
    "    aveF = 0\n",
    "    num_misses = 0\n",
    "    for i in range(num_trials):\n",
    "        simulator = stim.TableauSimulator()\n",
    "        simulator.do(circuit)\n",
    "        results = simulator.current_measurement_record()\n",
    "        if results[-3] != results[-4]: num_misses += 1;\n",
    "        else:\n",
    "            if results[-2]: simulator.z(4);\n",
    "            if results[-1]: simulator.z(5);\n",
    "            F = np.inner(simulator.state_vector(), ideal_sv)\n",
    "            aveF += F\n",
    "    aveF = aveF / (num_trials - num_misses)\n",
    "    # debug \n",
    "    return aveF\n",
    "\n",
    "print(estimate_fidelity(circuit, 10000))\n",
    "estimate_fidelity_with_postselection(circuit, 10000)"
   ]
  },
  {
   "cell_type": "code",
   "execution_count": 526,
   "id": "7671b33a",
   "metadata": {},
   "outputs": [],
   "source": [
    "import matplotlib.pyplot as plt"
   ]
  },
  {
   "cell_type": "code",
   "execution_count": 579,
   "id": "6e567b7d",
   "metadata": {
    "scrolled": true
   },
   "outputs": [
    {
     "name": "stderr",
     "output_type": "stream",
     "text": [
      "/tmp/ipykernel_4659/1791972050.py:8: ComplexWarning: Casting complex values to real discards the imaginary part\n",
      "  f = float(estimate_fidelity(circuit, num_trials))\n",
      "/tmp/ipykernel_4659/1791972050.py:9: ComplexWarning: Casting complex values to real discards the imaginary part\n",
      "  f_post = float(estimate_fidelity_with_postselection(circuit, num_trials))\n"
     ]
    },
    {
     "data": {
      "image/png": "[encoded data removed]",
      "text/plain": [
       "<Figure size 640x480 with 1 Axes>"
      ]
     },
     "metadata": {},
     "output_type": "display_data"
    }
   ],
   "source": [
    "def plot_fidelity_with_prob(num_trials, show_progress=False):\n",
    "    p_err = np.arange(0., 1., 0.01)\n",
    "    Fs = []\n",
    "    Fs_with_post = []\n",
    "    for p in p_err:\n",
    "        if show_progress: print(f\"Sampling error rate {p}\");\n",
    "        circuit = simple_pair_fidelity(p1 = p, p2 = 0)\n",
    "        f = float(estimate_fidelity(circuit, num_trials))\n",
    "        f_post = float(estimate_fidelity_with_postselection(circuit, num_trials))\n",
    "        Fs.append(f)\n",
    "        Fs_with_post.append(f_post)\n",
    "    return Fs, Fs_with_post\n",
    "\n",
    "Fs, Fs_with_post = plot_fidelity_with_prob(5000)\n",
    "p_err = np.arange(0., 1., 0.01)\n",
    "plt.plot(p_err, Fs)\n",
    "plt.plot(p_err, Fs_with_post)\n",
    "plt.xlabel(\"p\")\n",
    "plt.ylabel(\"F\")\n",
    "plt.show()"
   ]
  },
  {
   "cell_type": "code",
   "execution_count": 601,
   "id": "5fe12e36",
   "metadata": {},
   "outputs": [
    {
     "name": "stdout",
     "output_type": "stream",
     "text": [
      "(0.009999999828857289+0j)\n"
     ]
    }
   ],
   "source": [
    "# More tests\n",
    "def bell(p):\n",
    "    circuit = stim.Circuit()\n",
    "    circuit.append(\"H\", 0)\n",
    "    circuit.append(\"CNOT\", [0,1])\n",
    "    circuit.append(\"DEPOLARIZE1\", 0, p)\n",
    "    simulator = stim.TableauSimulator()\n",
    "    simulator.do(circuit)\n",
    "    return circuit\n",
    "\n",
    "# c.diagram(type=\"timeline-svg\")\n",
    "\n",
    "F = 0\n",
    "N = 100\n",
    "for i in range(N):\n",
    "    c = bell(0.99)\n",
    "    simulator = stim.TableauSimulator()\n",
    "    simulator.do(c)\n",
    "    sv = simulator.state_vector()\n",
    "    ideal_bell = np.array([1/np.sqrt(2), 0, 0, 1/np.sqrt(2)])\n",
    "    F += np.inner(sv, ideal_bell)\n",
    "print(F / 100)"
   ]
  },
  {
   "cell_type": "code",
   "execution_count": null,
   "id": "33628b5e",
   "metadata": {},
   "outputs": [],
   "source": []
  }
 ],
 "metadata": {
  "kernelspec": {
   "display_name": "Python 3 (ipykernel)",
   "language": "python",
   "name": "python3"
  },
  "language_info": {
   "codemirror_mode": {
    "name": "ipython",
    "version": 3
   },
   "file_extension": ".py",
   "mimetype": "text/x-python",
   "name": "python",
   "nbconvert_exporter": "python",
   "pygments_lexer": "ipython3",
   "version": "3.10.6"
  }
 },
 "nbformat": 4,
 "nbformat_minor": 5
}
