{
 "cells": [
  {
   "cell_type": "markdown",
   "id": "cb6805b7",
   "metadata": {},
   "source": [
    "## A notebook for testing / building random junk"
   ]
  },
  {
   "cell_type": "code",
   "execution_count": 2,
   "id": "f08dbfc2",
   "metadata": {},
   "outputs": [],
   "source": [
    "from qiskit import *\n",
    "from qiskit.circuit.random import random_circuit\n",
    "from qiskit.quantum_info import DensityMatrix\n",
    "import numpy as np\n",
    "from numpy.random import rand\n",
    "from scipy.linalg import ishermitian\n",
    "from numpy import kron"
   ]
  },
  {
   "cell_type": "code",
   "execution_count": 3,
   "id": "e6e82714",
   "metadata": {},
   "outputs": [
    {
     "name": "stdout",
     "output_type": "stream",
     "text": [
      "DensityMatrix([[ 0.77804469+0.j        , -0.14963385-0.31131101j],\n",
      "               [-0.14963385+0.31131101j,  0.22195531+0.j        ]],\n",
      "              dims=(2,))\n"
     ]
    }
   ],
   "source": [
    "def random_density(num_qubits=1, num_terms=2, prob_dist=None):\n",
    "    if prob_dist != None: assert(len(prob_dist) == num_terms and sum(prob_dist == 1));\n",
    "    else: tmp = rand(num_terms); prob_dist = tmp/sum(tmp);\n",
    "    final_dm = DensityMatrix(np.zeros([2**num_qubits, 2**num_qubits]));\n",
    "    simulator = Aer.get_backend('aer_simulator_statevector')\n",
    "    for n in range(num_terms):\n",
    "        rand_circ = random_circuit(num_qubits, 5, measure=False)\n",
    "        rand_circ.save_statevector()\n",
    "        job_statevector = simulator.run(rand_circ, shots=1)\n",
    "        result = job_statevector.result()\n",
    "        dm = DensityMatrix(result.get_statevector(rand_circ))\n",
    "        final_dm += dm * prob_dist[n]\n",
    "    print(final_dm)\n",
    "\n",
    "# Pass as numpy array\n",
    "def test_density(rho):\n",
    "    print(f\"Is Hermitian? {ishermitian(rho)}\")\n",
    "    print(f\"Trace 1? \")\n",
    "    \n",
    "random_density()"
   ]
  },
  {
   "cell_type": "code",
   "execution_count": null,
   "id": "9c111fee",
   "metadata": {},
   "outputs": [],
   "source": [
    "# Create random circuit, simulate and draw resultant state:\n",
    "rand_circ = random_circuit(1, 5, measure=False)\n",
    "rand_circ.save_statevector()\n",
    "simulator = Aer.get_backend('aer_simulator_statevector')\n",
    "job_statevector = simulator.run(rand_circ, shots=1)\n",
    "result = job_statevector.result()\n",
    "print(result.get_statevector(rand_circ))\n",
    "rand_circ.draw(output='mpl')"
   ]
  }
 ],
 "metadata": {
  "kernelspec": {
   "display_name": "Python [conda env:qiskit_env] *",
   "language": "python",
   "name": "conda-env-qiskit_env-py"
  },
  "language_info": {
   "codemirror_mode": {
    "name": "ipython",
    "version": 3
   },
   "file_extension": ".py",
   "mimetype": "text/x-python",
   "name": "python",
   "nbconvert_exporter": "python",
   "pygments_lexer": "ipython3",
   "version": "3.10.6"
  }
 },
 "nbformat": 4,
 "nbformat_minor": 5
}
