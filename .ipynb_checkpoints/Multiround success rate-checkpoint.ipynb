{
 "cells": [
  {
   "cell_type": "markdown",
   "id": "72fbe6fa",
   "metadata": {},
   "source": [
    "#### How many ions are needed for 1000 KhZ fast-as possible lattice surgery?"
   ]
  },
  {
   "cell_type": "code",
   "execution_count": 1,
   "id": "445af5fd",
   "metadata": {},
   "outputs": [],
   "source": [
    "import numpy as np"
   ]
  },
  {
   "cell_type": "code",
   "execution_count": 2,
   "id": "389411c4",
   "metadata": {},
   "outputs": [],
   "source": [
    "def multiround_successrate(num_trials, num_timesteps, num_ions, success_prob, required_successes):\n",
    "    \n",
    "    def threshold(x):\n",
    "        if x >= required_successes: return 1;\n",
    "        return 0\n",
    "    \n",
    "    ion_tracking = np.array([num_ions for i in range(num_trials)])\n",
    "    num_successes = np.zeros(num_trials, int)\n",
    "    for i in range(num_timesteps):\n",
    "        collected_photons = np.array([np.random.binomial(ion_tracking[i], success_prob) for i in range(len(ion_tracking))])\n",
    "        num_successes += collected_photons\n",
    "        ion_tracking = ion_tracking - collected_photons\n",
    "    \n",
    "    print(f\"Average number of successes: {np.mean(num_successes)}\")\n",
    "    print(f\"Average success rate: {np.mean(list(map(threshold, num_successes)))}\")\n",
    "    return\n",
    "#     results = list(map(threshold, num_successes))\n",
    "#     return np.mean(results)"
   ]
  },
  {
   "cell_type": "code",
   "execution_count": 83,
   "id": "34c06249",
   "metadata": {},
   "outputs": [
    {
     "name": "stdout",
     "output_type": "stream",
     "text": [
      "Average number of successes: 1796.8468\n",
      "Average success rate: 0.9992\n"
     ]
    }
   ],
   "source": [
    "num_trials = 10000\n",
    "num_timesteps = 1000\n",
    "num_ions = 9175\n",
    "success_prob = 2.18e-4\n",
    "required_successes = 1680\n",
    "multiround_successrate(num_trials, num_timesteps, num_ions, success_prob, required_successes)"
   ]
  }
 ],
 "metadata": {
  "kernelspec": {
   "display_name": "Python 3 (ipykernel)",
   "language": "python",
   "name": "python3"
  },
  "language_info": {
   "codemirror_mode": {
    "name": "ipython",
    "version": 3
   },
   "file_extension": ".py",
   "mimetype": "text/x-python",
   "name": "python",
   "nbconvert_exporter": "python",
   "pygments_lexer": "ipython3",
   "version": "3.10.6"
  }
 },
 "nbformat": 4,
 "nbformat_minor": 5
}
